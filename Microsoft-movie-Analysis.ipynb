{
 "cells": [
  {
   "cell_type": "markdown",
   "metadata": {},
   "source": [
    "## Final Project Submission\n",
    "\n",
    "\n",
    "* Student name: Muhsin Ahmed Abdule\n",
    "* Student pace: part-time\n",
    "* Scheduled project review date/time: 05/11/2023\n",
    "* Instructor name: Everlyn Asiko\n",
    "* Blog post URL: https://github.com/muhsin48/dsc-phase-1-project.git\n"
   ]
  },
  {
   "cell_type": "markdown",
   "metadata": {},
   "source": [
    "## Overview\n",
    "In this project , I aim to provide actionable insights to Microsoft which is venturing into the film industry through establishing a new studio.Microsoft is a giant in the technology sector however they lack experience when it come to the film industry.The projects's Objectives is to explore the movie industry and identify which film types are doing the best at the box office"
   ]
  },
  {
   "cell_type": "markdown",
   "metadata": {},
   "source": [
    "### Business Problem\n",
    "\n",
    "The main business problem is that Microsoft wants to venture into a competitive Market without the prior experience of the industry.To address the problem,this project explores and answers several questions to provide actionable insights:\n",
    "\n",
    "Which genre selection are currently the most successful?\n",
    "Is there a Relationship between Profits and movie budgets?\n",
    "Is there a Relationship between Rating,number of votes and profits made?\n",
    "What is the trend of profits across years?\n"
   ]
  },
  {
   "cell_type": "markdown",
   "metadata": {},
   "source": [
    "### Data understanding\n",
    "The data used for this project comes from  the following websites:\n",
    "\n",
    "1.IMDB: i used the IMDB to access two datasets i.e imdb.title.basics that contains fundamental information about movies,imdb.title.ratings that contains rating information about movies\n",
    "\n",
    "2.Box Office Mojo (BOM):I used the bom.movie_gross that contains earnign values for movies at the box office\n",
    "\n",
    "3.The Numbers (TN): tn.movie_budgets this dataset contains information on the production budget\n",
    "\n",
    "These datasets are relevant to our data analysis questions.They allow us to explore and the film industry in relation to its financial success and other aspects.The data provides insights that can guide Microsoft's studio to create new films and  navigate through the film industry and make huge profits\n",
    "\n",
    "The data represents movies with each row corresponding to a unique film.The sample include wide range of movies from different Genres,Start_year and production Budgets\n",
    "\n",
    "The Target variable for this analysis is on  the Profit Made which can be calculated through analysis of the box office and the production Budgets\n",
    "\n",
    "properties of the key variables include:\n",
    "\n",
    "The imdb.title.basics dataset includes variables like movie titles, genres, and Start years.\n",
    "The imdb.title.ratings dataset provides information about movie average_rating and the number of votes\n",
    "The bom.movie_gross dataset contains variables for movie titles, studio names, and domestic and foreign gross earnings\n",
    "The tn.movie_budgets dataset has variables such as movie titles, production budgets, and domestic and worldwide gross earnings."
   ]
  },
  {
   "cell_type": "code",
   "execution_count": 1,
   "metadata": {},
   "outputs": [],
   "source": [
    "# import necessary libraries\n",
    "\n",
    "import pandas as pd \n",
    "import numpy as np\n",
    "import matplotlib.pyplot as plt\n",
    "import seaborn as sns\n",
    "%matplotlib inline"
   ]
  },
  {
   "cell_type": "code",
   "execution_count": 2,
   "metadata": {},
   "outputs": [],
   "source": [
    "#loading the data files\n",
    "\n",
    "file_path_1= \"C:/Users/ENVY x360/Desktop/title.ratings.csv\"\n",
    "file_path_2= \"C:/Users/ENVY x360/Desktop/bom.movie_gross.csv\"\n",
    "file_path_3= \"C:/Users/ENVY x360/Desktop/title.basics.csv\"\n",
    "file_path_4= \"C:/Users/ENVY x360/Desktop/tn.movie_budgets.csv\""
   ]
  },
  {
   "cell_type": "markdown",
   "metadata": {},
   "source": [
    "### Loading the data"
   ]
  },
  {
   "cell_type": "code",
   "execution_count": 3,
   "metadata": {
    "scrolled": true
   },
   "outputs": [],
   "source": [
    "basics_df= pd.read_csv(file_path_3)\n",
    "ratings_df= pd.read_csv(file_path_1)\n",
    "gross_df=pd.read_csv(file_path_2)\n",
    "budget_df= pd.read_csv(file_path_4)\n"
   ]
  },
  {
   "cell_type": "code",
   "execution_count": 4,
   "metadata": {
    "scrolled": true
   },
   "outputs": [
    {
     "data": {
      "text/html": [
       "<div>\n",
       "<style scoped>\n",
       "    .dataframe tbody tr th:only-of-type {\n",
       "        vertical-align: middle;\n",
       "    }\n",
       "\n",
       "    .dataframe tbody tr th {\n",
       "        vertical-align: top;\n",
       "    }\n",
       "\n",
       "    .dataframe thead th {\n",
       "        text-align: right;\n",
       "    }\n",
       "</style>\n",
       "<table border=\"1\" class=\"dataframe\">\n",
       "  <thead>\n",
       "    <tr style=\"text-align: right;\">\n",
       "      <th></th>\n",
       "      <th>tconst</th>\n",
       "      <th>primary_title</th>\n",
       "      <th>original_title</th>\n",
       "      <th>start_year</th>\n",
       "      <th>runtime_minutes</th>\n",
       "      <th>genres</th>\n",
       "    </tr>\n",
       "  </thead>\n",
       "  <tbody>\n",
       "    <tr>\n",
       "      <th>0</th>\n",
       "      <td>tt0063540</td>\n",
       "      <td>Sunghursh</td>\n",
       "      <td>Sunghursh</td>\n",
       "      <td>2013</td>\n",
       "      <td>175.0</td>\n",
       "      <td>Action,Crime,Drama</td>\n",
       "    </tr>\n",
       "    <tr>\n",
       "      <th>1</th>\n",
       "      <td>tt0066787</td>\n",
       "      <td>One Day Before the Rainy Season</td>\n",
       "      <td>Ashad Ka Ek Din</td>\n",
       "      <td>2019</td>\n",
       "      <td>114.0</td>\n",
       "      <td>Biography,Drama</td>\n",
       "    </tr>\n",
       "    <tr>\n",
       "      <th>2</th>\n",
       "      <td>tt0069049</td>\n",
       "      <td>The Other Side of the Wind</td>\n",
       "      <td>The Other Side of the Wind</td>\n",
       "      <td>2018</td>\n",
       "      <td>122.0</td>\n",
       "      <td>Drama</td>\n",
       "    </tr>\n",
       "    <tr>\n",
       "      <th>3</th>\n",
       "      <td>tt0069204</td>\n",
       "      <td>Sabse Bada Sukh</td>\n",
       "      <td>Sabse Bada Sukh</td>\n",
       "      <td>2018</td>\n",
       "      <td>NaN</td>\n",
       "      <td>Comedy,Drama</td>\n",
       "    </tr>\n",
       "    <tr>\n",
       "      <th>4</th>\n",
       "      <td>tt0100275</td>\n",
       "      <td>The Wandering Soap Opera</td>\n",
       "      <td>La Telenovela Errante</td>\n",
       "      <td>2017</td>\n",
       "      <td>80.0</td>\n",
       "      <td>Comedy,Drama,Fantasy</td>\n",
       "    </tr>\n",
       "  </tbody>\n",
       "</table>\n",
       "</div>"
      ],
      "text/plain": [
       "      tconst                    primary_title              original_title  \\\n",
       "0  tt0063540                        Sunghursh                   Sunghursh   \n",
       "1  tt0066787  One Day Before the Rainy Season             Ashad Ka Ek Din   \n",
       "2  tt0069049       The Other Side of the Wind  The Other Side of the Wind   \n",
       "3  tt0069204                  Sabse Bada Sukh             Sabse Bada Sukh   \n",
       "4  tt0100275         The Wandering Soap Opera       La Telenovela Errante   \n",
       "\n",
       "   start_year  runtime_minutes                genres  \n",
       "0        2013            175.0    Action,Crime,Drama  \n",
       "1        2019            114.0       Biography,Drama  \n",
       "2        2018            122.0                 Drama  \n",
       "3        2018              NaN          Comedy,Drama  \n",
       "4        2017             80.0  Comedy,Drama,Fantasy  "
      ]
     },
     "execution_count": 4,
     "metadata": {},
     "output_type": "execute_result"
    }
   ],
   "source": [
    "basics_df.head()"
   ]
  },
  {
   "cell_type": "code",
   "execution_count": 5,
   "metadata": {},
   "outputs": [
    {
     "name": "stdout",
     "output_type": "stream",
     "text": [
      "<class 'pandas.core.frame.DataFrame'>\n",
      "RangeIndex: 146144 entries, 0 to 146143\n",
      "Data columns (total 6 columns):\n",
      " #   Column           Non-Null Count   Dtype  \n",
      "---  ------           --------------   -----  \n",
      " 0   tconst           146144 non-null  object \n",
      " 1   primary_title    146144 non-null  object \n",
      " 2   original_title   146123 non-null  object \n",
      " 3   start_year       146144 non-null  int64  \n",
      " 4   runtime_minutes  114405 non-null  float64\n",
      " 5   genres           140736 non-null  object \n",
      "dtypes: float64(1), int64(1), object(4)\n",
      "memory usage: 6.7+ MB\n"
     ]
    }
   ],
   "source": [
    "basics_df.info()"
   ]
  },
  {
   "cell_type": "code",
   "execution_count": 6,
   "metadata": {
    "scrolled": true
   },
   "outputs": [
    {
     "data": {
      "text/html": [
       "<div>\n",
       "<style scoped>\n",
       "    .dataframe tbody tr th:only-of-type {\n",
       "        vertical-align: middle;\n",
       "    }\n",
       "\n",
       "    .dataframe tbody tr th {\n",
       "        vertical-align: top;\n",
       "    }\n",
       "\n",
       "    .dataframe thead th {\n",
       "        text-align: right;\n",
       "    }\n",
       "</style>\n",
       "<table border=\"1\" class=\"dataframe\">\n",
       "  <thead>\n",
       "    <tr style=\"text-align: right;\">\n",
       "      <th></th>\n",
       "      <th>tconst</th>\n",
       "      <th>averagerating</th>\n",
       "      <th>numvotes</th>\n",
       "    </tr>\n",
       "  </thead>\n",
       "  <tbody>\n",
       "    <tr>\n",
       "      <th>0</th>\n",
       "      <td>tt10356526</td>\n",
       "      <td>8.3</td>\n",
       "      <td>31</td>\n",
       "    </tr>\n",
       "    <tr>\n",
       "      <th>1</th>\n",
       "      <td>tt10384606</td>\n",
       "      <td>8.9</td>\n",
       "      <td>559</td>\n",
       "    </tr>\n",
       "    <tr>\n",
       "      <th>2</th>\n",
       "      <td>tt1042974</td>\n",
       "      <td>6.4</td>\n",
       "      <td>20</td>\n",
       "    </tr>\n",
       "    <tr>\n",
       "      <th>3</th>\n",
       "      <td>tt1043726</td>\n",
       "      <td>4.2</td>\n",
       "      <td>50352</td>\n",
       "    </tr>\n",
       "    <tr>\n",
       "      <th>4</th>\n",
       "      <td>tt1060240</td>\n",
       "      <td>6.5</td>\n",
       "      <td>21</td>\n",
       "    </tr>\n",
       "  </tbody>\n",
       "</table>\n",
       "</div>"
      ],
      "text/plain": [
       "       tconst  averagerating  numvotes\n",
       "0  tt10356526            8.3        31\n",
       "1  tt10384606            8.9       559\n",
       "2   tt1042974            6.4        20\n",
       "3   tt1043726            4.2     50352\n",
       "4   tt1060240            6.5        21"
      ]
     },
     "execution_count": 6,
     "metadata": {},
     "output_type": "execute_result"
    }
   ],
   "source": [
    "\n",
    "ratings_df.head()"
   ]
  },
  {
   "cell_type": "code",
   "execution_count": 7,
   "metadata": {},
   "outputs": [
    {
     "name": "stdout",
     "output_type": "stream",
     "text": [
      "<class 'pandas.core.frame.DataFrame'>\n",
      "RangeIndex: 73856 entries, 0 to 73855\n",
      "Data columns (total 3 columns):\n",
      " #   Column         Non-Null Count  Dtype  \n",
      "---  ------         --------------  -----  \n",
      " 0   tconst         73856 non-null  object \n",
      " 1   averagerating  73856 non-null  float64\n",
      " 2   numvotes       73856 non-null  int64  \n",
      "dtypes: float64(1), int64(1), object(1)\n",
      "memory usage: 1.7+ MB\n"
     ]
    }
   ],
   "source": [
    "ratings_df.info()"
   ]
  },
  {
   "cell_type": "code",
   "execution_count": 8,
   "metadata": {
    "scrolled": false
   },
   "outputs": [
    {
     "data": {
      "text/html": [
       "<div>\n",
       "<style scoped>\n",
       "    .dataframe tbody tr th:only-of-type {\n",
       "        vertical-align: middle;\n",
       "    }\n",
       "\n",
       "    .dataframe tbody tr th {\n",
       "        vertical-align: top;\n",
       "    }\n",
       "\n",
       "    .dataframe thead th {\n",
       "        text-align: right;\n",
       "    }\n",
       "</style>\n",
       "<table border=\"1\" class=\"dataframe\">\n",
       "  <thead>\n",
       "    <tr style=\"text-align: right;\">\n",
       "      <th></th>\n",
       "      <th>title</th>\n",
       "      <th>studio</th>\n",
       "      <th>domestic_gross</th>\n",
       "      <th>foreign_gross</th>\n",
       "      <th>year</th>\n",
       "    </tr>\n",
       "  </thead>\n",
       "  <tbody>\n",
       "    <tr>\n",
       "      <th>0</th>\n",
       "      <td>Toy Story 3</td>\n",
       "      <td>BV</td>\n",
       "      <td>415000000.0</td>\n",
       "      <td>652000000</td>\n",
       "      <td>2010</td>\n",
       "    </tr>\n",
       "    <tr>\n",
       "      <th>1</th>\n",
       "      <td>Alice in Wonderland (2010)</td>\n",
       "      <td>BV</td>\n",
       "      <td>334200000.0</td>\n",
       "      <td>691300000</td>\n",
       "      <td>2010</td>\n",
       "    </tr>\n",
       "    <tr>\n",
       "      <th>2</th>\n",
       "      <td>Harry Potter and the Deathly Hallows Part 1</td>\n",
       "      <td>WB</td>\n",
       "      <td>296000000.0</td>\n",
       "      <td>664300000</td>\n",
       "      <td>2010</td>\n",
       "    </tr>\n",
       "    <tr>\n",
       "      <th>3</th>\n",
       "      <td>Inception</td>\n",
       "      <td>WB</td>\n",
       "      <td>292600000.0</td>\n",
       "      <td>535700000</td>\n",
       "      <td>2010</td>\n",
       "    </tr>\n",
       "    <tr>\n",
       "      <th>4</th>\n",
       "      <td>Shrek Forever After</td>\n",
       "      <td>P/DW</td>\n",
       "      <td>238700000.0</td>\n",
       "      <td>513900000</td>\n",
       "      <td>2010</td>\n",
       "    </tr>\n",
       "  </tbody>\n",
       "</table>\n",
       "</div>"
      ],
      "text/plain": [
       "                                         title studio  domestic_gross  \\\n",
       "0                                  Toy Story 3     BV     415000000.0   \n",
       "1                   Alice in Wonderland (2010)     BV     334200000.0   \n",
       "2  Harry Potter and the Deathly Hallows Part 1     WB     296000000.0   \n",
       "3                                    Inception     WB     292600000.0   \n",
       "4                          Shrek Forever After   P/DW     238700000.0   \n",
       "\n",
       "  foreign_gross  year  \n",
       "0     652000000  2010  \n",
       "1     691300000  2010  \n",
       "2     664300000  2010  \n",
       "3     535700000  2010  \n",
       "4     513900000  2010  "
      ]
     },
     "execution_count": 8,
     "metadata": {},
     "output_type": "execute_result"
    }
   ],
   "source": [
    "\n",
    "gross_df.head()"
   ]
  },
  {
   "cell_type": "code",
   "execution_count": 9,
   "metadata": {},
   "outputs": [
    {
     "name": "stdout",
     "output_type": "stream",
     "text": [
      "<class 'pandas.core.frame.DataFrame'>\n",
      "RangeIndex: 3387 entries, 0 to 3386\n",
      "Data columns (total 5 columns):\n",
      " #   Column          Non-Null Count  Dtype  \n",
      "---  ------          --------------  -----  \n",
      " 0   title           3387 non-null   object \n",
      " 1   studio          3382 non-null   object \n",
      " 2   domestic_gross  3359 non-null   float64\n",
      " 3   foreign_gross   2037 non-null   object \n",
      " 4   year            3387 non-null   int64  \n",
      "dtypes: float64(1), int64(1), object(3)\n",
      "memory usage: 132.4+ KB\n"
     ]
    }
   ],
   "source": [
    "gross_df.info()"
   ]
  },
  {
   "cell_type": "code",
   "execution_count": 10,
   "metadata": {
    "scrolled": true
   },
   "outputs": [
    {
     "data": {
      "text/html": [
       "<div>\n",
       "<style scoped>\n",
       "    .dataframe tbody tr th:only-of-type {\n",
       "        vertical-align: middle;\n",
       "    }\n",
       "\n",
       "    .dataframe tbody tr th {\n",
       "        vertical-align: top;\n",
       "    }\n",
       "\n",
       "    .dataframe thead th {\n",
       "        text-align: right;\n",
       "    }\n",
       "</style>\n",
       "<table border=\"1\" class=\"dataframe\">\n",
       "  <thead>\n",
       "    <tr style=\"text-align: right;\">\n",
       "      <th></th>\n",
       "      <th>id</th>\n",
       "      <th>release_date</th>\n",
       "      <th>movie</th>\n",
       "      <th>production_budget</th>\n",
       "      <th>domestic_gross</th>\n",
       "      <th>worldwide_gross</th>\n",
       "    </tr>\n",
       "  </thead>\n",
       "  <tbody>\n",
       "    <tr>\n",
       "      <th>0</th>\n",
       "      <td>1</td>\n",
       "      <td>Dec 18, 2009</td>\n",
       "      <td>Avatar</td>\n",
       "      <td>$425,000,000</td>\n",
       "      <td>$760,507,625</td>\n",
       "      <td>$2,776,345,279</td>\n",
       "    </tr>\n",
       "    <tr>\n",
       "      <th>1</th>\n",
       "      <td>2</td>\n",
       "      <td>May 20, 2011</td>\n",
       "      <td>Pirates of the Caribbean: On Stranger Tides</td>\n",
       "      <td>$410,600,000</td>\n",
       "      <td>$241,063,875</td>\n",
       "      <td>$1,045,663,875</td>\n",
       "    </tr>\n",
       "    <tr>\n",
       "      <th>2</th>\n",
       "      <td>3</td>\n",
       "      <td>Jun 7, 2019</td>\n",
       "      <td>Dark Phoenix</td>\n",
       "      <td>$350,000,000</td>\n",
       "      <td>$42,762,350</td>\n",
       "      <td>$149,762,350</td>\n",
       "    </tr>\n",
       "    <tr>\n",
       "      <th>3</th>\n",
       "      <td>4</td>\n",
       "      <td>May 1, 2015</td>\n",
       "      <td>Avengers: Age of Ultron</td>\n",
       "      <td>$330,600,000</td>\n",
       "      <td>$459,005,868</td>\n",
       "      <td>$1,403,013,963</td>\n",
       "    </tr>\n",
       "    <tr>\n",
       "      <th>4</th>\n",
       "      <td>5</td>\n",
       "      <td>Dec 15, 2017</td>\n",
       "      <td>Star Wars Ep. VIII: The Last Jedi</td>\n",
       "      <td>$317,000,000</td>\n",
       "      <td>$620,181,382</td>\n",
       "      <td>$1,316,721,747</td>\n",
       "    </tr>\n",
       "  </tbody>\n",
       "</table>\n",
       "</div>"
      ],
      "text/plain": [
       "   id  release_date                                        movie  \\\n",
       "0   1  Dec 18, 2009                                       Avatar   \n",
       "1   2  May 20, 2011  Pirates of the Caribbean: On Stranger Tides   \n",
       "2   3   Jun 7, 2019                                 Dark Phoenix   \n",
       "3   4   May 1, 2015                      Avengers: Age of Ultron   \n",
       "4   5  Dec 15, 2017            Star Wars Ep. VIII: The Last Jedi   \n",
       "\n",
       "  production_budget domestic_gross worldwide_gross  \n",
       "0      $425,000,000   $760,507,625  $2,776,345,279  \n",
       "1      $410,600,000   $241,063,875  $1,045,663,875  \n",
       "2      $350,000,000    $42,762,350    $149,762,350  \n",
       "3      $330,600,000   $459,005,868  $1,403,013,963  \n",
       "4      $317,000,000   $620,181,382  $1,316,721,747  "
      ]
     },
     "execution_count": 10,
     "metadata": {},
     "output_type": "execute_result"
    }
   ],
   "source": [
    "\n",
    "budget_df.head()"
   ]
  },
  {
   "cell_type": "code",
   "execution_count": 11,
   "metadata": {
    "scrolled": true
   },
   "outputs": [
    {
     "name": "stdout",
     "output_type": "stream",
     "text": [
      "<class 'pandas.core.frame.DataFrame'>\n",
      "RangeIndex: 5782 entries, 0 to 5781\n",
      "Data columns (total 6 columns):\n",
      " #   Column             Non-Null Count  Dtype \n",
      "---  ------             --------------  ----- \n",
      " 0   id                 5782 non-null   int64 \n",
      " 1   release_date       5782 non-null   object\n",
      " 2   movie              5782 non-null   object\n",
      " 3   production_budget  5782 non-null   object\n",
      " 4   domestic_gross     5782 non-null   object\n",
      " 5   worldwide_gross    5782 non-null   object\n",
      "dtypes: int64(1), object(5)\n",
      "memory usage: 271.2+ KB\n"
     ]
    }
   ],
   "source": [
    "budget_df.info()"
   ]
  },
  {
   "cell_type": "markdown",
   "metadata": {},
   "source": [
    "### Data cleaning and preparation"
   ]
  },
  {
   "cell_type": "markdown",
   "metadata": {},
   "source": [
    "The datasets contains missing values and the datatypes are not correctly matched therefore we'll do some data normalization and cleanig"
   ]
  },
  {
   "cell_type": "code",
   "execution_count": 12,
   "metadata": {},
   "outputs": [],
   "source": [
    "# dropping all the empty rows\n",
    "basics_df.dropna(how=\"all\",inplace=True)\n",
    "ratings_df.dropna(how=\"all\",inplace=True)\n",
    "gross_df.dropna(how=\"all\",inplace=True)\n",
    "budget_df.dropna(how=\"all\",inplace=True)"
   ]
  },
  {
   "cell_type": "code",
   "execution_count": 13,
   "metadata": {
    "scrolled": false
   },
   "outputs": [
    {
     "data": {
      "text/html": [
       "<div>\n",
       "<style scoped>\n",
       "    .dataframe tbody tr th:only-of-type {\n",
       "        vertical-align: middle;\n",
       "    }\n",
       "\n",
       "    .dataframe tbody tr th {\n",
       "        vertical-align: top;\n",
       "    }\n",
       "\n",
       "    .dataframe thead th {\n",
       "        text-align: right;\n",
       "    }\n",
       "</style>\n",
       "<table border=\"1\" class=\"dataframe\">\n",
       "  <thead>\n",
       "    <tr style=\"text-align: right;\">\n",
       "      <th></th>\n",
       "      <th>tconst</th>\n",
       "      <th>primary_title</th>\n",
       "      <th>original_title</th>\n",
       "      <th>start_year</th>\n",
       "      <th>runtime_minutes</th>\n",
       "      <th>genres</th>\n",
       "    </tr>\n",
       "  </thead>\n",
       "  <tbody>\n",
       "    <tr>\n",
       "      <th>0</th>\n",
       "      <td>tt0063540</td>\n",
       "      <td>Sunghursh</td>\n",
       "      <td>Sunghursh</td>\n",
       "      <td>2013</td>\n",
       "      <td>175.0</td>\n",
       "      <td>Action,Crime,Drama</td>\n",
       "    </tr>\n",
       "    <tr>\n",
       "      <th>1</th>\n",
       "      <td>tt0066787</td>\n",
       "      <td>One Day Before the Rainy Season</td>\n",
       "      <td>Ashad Ka Ek Din</td>\n",
       "      <td>2019</td>\n",
       "      <td>114.0</td>\n",
       "      <td>Biography,Drama</td>\n",
       "    </tr>\n",
       "    <tr>\n",
       "      <th>2</th>\n",
       "      <td>tt0069049</td>\n",
       "      <td>The Other Side of the Wind</td>\n",
       "      <td>The Other Side of the Wind</td>\n",
       "      <td>2018</td>\n",
       "      <td>122.0</td>\n",
       "      <td>Drama</td>\n",
       "    </tr>\n",
       "    <tr>\n",
       "      <th>3</th>\n",
       "      <td>tt0069204</td>\n",
       "      <td>Sabse Bada Sukh</td>\n",
       "      <td>Sabse Bada Sukh</td>\n",
       "      <td>2018</td>\n",
       "      <td>NaN</td>\n",
       "      <td>Comedy,Drama</td>\n",
       "    </tr>\n",
       "    <tr>\n",
       "      <th>4</th>\n",
       "      <td>tt0100275</td>\n",
       "      <td>The Wandering Soap Opera</td>\n",
       "      <td>La Telenovela Errante</td>\n",
       "      <td>2017</td>\n",
       "      <td>80.0</td>\n",
       "      <td>Comedy,Drama,Fantasy</td>\n",
       "    </tr>\n",
       "  </tbody>\n",
       "</table>\n",
       "</div>"
      ],
      "text/plain": [
       "      tconst                    primary_title              original_title  \\\n",
       "0  tt0063540                        Sunghursh                   Sunghursh   \n",
       "1  tt0066787  One Day Before the Rainy Season             Ashad Ka Ek Din   \n",
       "2  tt0069049       The Other Side of the Wind  The Other Side of the Wind   \n",
       "3  tt0069204                  Sabse Bada Sukh             Sabse Bada Sukh   \n",
       "4  tt0100275         The Wandering Soap Opera       La Telenovela Errante   \n",
       "\n",
       "   start_year  runtime_minutes                genres  \n",
       "0        2013            175.0    Action,Crime,Drama  \n",
       "1        2019            114.0       Biography,Drama  \n",
       "2        2018            122.0                 Drama  \n",
       "3        2018              NaN          Comedy,Drama  \n",
       "4        2017             80.0  Comedy,Drama,Fantasy  "
      ]
     },
     "execution_count": 13,
     "metadata": {},
     "output_type": "execute_result"
    }
   ],
   "source": [
    "basics_df.head()"
   ]
  },
  {
   "cell_type": "markdown",
   "metadata": {},
   "source": [
    "Here am ensuring the movie title are normalized and entered the same way since i will be using it to merge with other dataframes"
   ]
  },
  {
   "cell_type": "code",
   "execution_count": 14,
   "metadata": {},
   "outputs": [],
   "source": [
    "basics_df[\"primary_title\"]=basics_df[\"primary_title\"].str.lower()\n",
    "basics_df[\"primary_title\"]=basics_df[\"primary_title\"].str.replace(\"[^a-zA-Z0-9\\s]\",\"\",regex=\"True\").str.strip()"
   ]
  },
  {
   "cell_type": "code",
   "execution_count": 15,
   "metadata": {},
   "outputs": [],
   "source": [
    "basics_df[\"original_title\"]=basics_df[\"original_title\"].str.lower()\n",
    "basics_df[\"original_title\"]=basics_df[\"original_title\"].str.replace(\"[^a-zA-Z0-9\\s]\",\"\",regex=\"True\").str.strip()"
   ]
  },
  {
   "cell_type": "code",
   "execution_count": 16,
   "metadata": {},
   "outputs": [
    {
     "name": "stdout",
     "output_type": "stream",
     "text": [
      "<class 'pandas.core.frame.DataFrame'>\n",
      "Int64Index: 146144 entries, 0 to 146143\n",
      "Data columns (total 6 columns):\n",
      " #   Column           Non-Null Count   Dtype  \n",
      "---  ------           --------------   -----  \n",
      " 0   tconst           146144 non-null  object \n",
      " 1   primary_title    146144 non-null  object \n",
      " 2   original_title   146123 non-null  object \n",
      " 3   start_year       146144 non-null  int64  \n",
      " 4   runtime_minutes  114405 non-null  float64\n",
      " 5   genres           140736 non-null  object \n",
      "dtypes: float64(1), int64(1), object(4)\n",
      "memory usage: 7.8+ MB\n"
     ]
    }
   ],
   "source": [
    "basics_df.info()"
   ]
  },
  {
   "cell_type": "code",
   "execution_count": 17,
   "metadata": {},
   "outputs": [
    {
     "data": {
      "text/html": [
       "<div>\n",
       "<style scoped>\n",
       "    .dataframe tbody tr th:only-of-type {\n",
       "        vertical-align: middle;\n",
       "    }\n",
       "\n",
       "    .dataframe tbody tr th {\n",
       "        vertical-align: top;\n",
       "    }\n",
       "\n",
       "    .dataframe thead th {\n",
       "        text-align: right;\n",
       "    }\n",
       "</style>\n",
       "<table border=\"1\" class=\"dataframe\">\n",
       "  <thead>\n",
       "    <tr style=\"text-align: right;\">\n",
       "      <th></th>\n",
       "      <th>id</th>\n",
       "      <th>release_date</th>\n",
       "      <th>movie</th>\n",
       "      <th>production_budget</th>\n",
       "      <th>domestic_gross</th>\n",
       "      <th>worldwide_gross</th>\n",
       "    </tr>\n",
       "  </thead>\n",
       "  <tbody>\n",
       "    <tr>\n",
       "      <th>0</th>\n",
       "      <td>1</td>\n",
       "      <td>Dec 18, 2009</td>\n",
       "      <td>Avatar</td>\n",
       "      <td>$425,000,000</td>\n",
       "      <td>$760,507,625</td>\n",
       "      <td>$2,776,345,279</td>\n",
       "    </tr>\n",
       "    <tr>\n",
       "      <th>1</th>\n",
       "      <td>2</td>\n",
       "      <td>May 20, 2011</td>\n",
       "      <td>Pirates of the Caribbean: On Stranger Tides</td>\n",
       "      <td>$410,600,000</td>\n",
       "      <td>$241,063,875</td>\n",
       "      <td>$1,045,663,875</td>\n",
       "    </tr>\n",
       "    <tr>\n",
       "      <th>2</th>\n",
       "      <td>3</td>\n",
       "      <td>Jun 7, 2019</td>\n",
       "      <td>Dark Phoenix</td>\n",
       "      <td>$350,000,000</td>\n",
       "      <td>$42,762,350</td>\n",
       "      <td>$149,762,350</td>\n",
       "    </tr>\n",
       "    <tr>\n",
       "      <th>3</th>\n",
       "      <td>4</td>\n",
       "      <td>May 1, 2015</td>\n",
       "      <td>Avengers: Age of Ultron</td>\n",
       "      <td>$330,600,000</td>\n",
       "      <td>$459,005,868</td>\n",
       "      <td>$1,403,013,963</td>\n",
       "    </tr>\n",
       "    <tr>\n",
       "      <th>4</th>\n",
       "      <td>5</td>\n",
       "      <td>Dec 15, 2017</td>\n",
       "      <td>Star Wars Ep. VIII: The Last Jedi</td>\n",
       "      <td>$317,000,000</td>\n",
       "      <td>$620,181,382</td>\n",
       "      <td>$1,316,721,747</td>\n",
       "    </tr>\n",
       "  </tbody>\n",
       "</table>\n",
       "</div>"
      ],
      "text/plain": [
       "   id  release_date                                        movie  \\\n",
       "0   1  Dec 18, 2009                                       Avatar   \n",
       "1   2  May 20, 2011  Pirates of the Caribbean: On Stranger Tides   \n",
       "2   3   Jun 7, 2019                                 Dark Phoenix   \n",
       "3   4   May 1, 2015                      Avengers: Age of Ultron   \n",
       "4   5  Dec 15, 2017            Star Wars Ep. VIII: The Last Jedi   \n",
       "\n",
       "  production_budget domestic_gross worldwide_gross  \n",
       "0      $425,000,000   $760,507,625  $2,776,345,279  \n",
       "1      $410,600,000   $241,063,875  $1,045,663,875  \n",
       "2      $350,000,000    $42,762,350    $149,762,350  \n",
       "3      $330,600,000   $459,005,868  $1,403,013,963  \n",
       "4      $317,000,000   $620,181,382  $1,316,721,747  "
      ]
     },
     "execution_count": 17,
     "metadata": {},
     "output_type": "execute_result"
    }
   ],
   "source": [
    "budget_df.head()"
   ]
  },
  {
   "cell_type": "code",
   "execution_count": 18,
   "metadata": {},
   "outputs": [],
   "source": [
    "budget_df[\"movie\"]=budget_df[\"movie\"].str.lower()\n",
    "budget_df[\"movie\"]=budget_df[\"movie\"].str.replace(\"[^a-zA-Z0-9\\s]\",\"\",regex=\"True\").str.strip()"
   ]
  },
  {
   "cell_type": "code",
   "execution_count": 19,
   "metadata": {},
   "outputs": [],
   "source": [
    "# renaming the column for easier reading\n",
    "\n",
    "budget_df.rename(columns=({\"movie\":\"movie_title\"}),inplace=True)"
   ]
  },
  {
   "cell_type": "markdown",
   "metadata": {},
   "source": [
    "extracting the year from the release date which i will use to merge the dataframes"
   ]
  },
  {
   "cell_type": "code",
   "execution_count": 20,
   "metadata": {},
   "outputs": [],
   "source": [
    "budget_df[\"release_year\"] = budget_df[\"release_date\"].apply(lambda x: x.split(\",\")[-1].strip() if isinstance(x, str) else None)\n"
   ]
  },
  {
   "cell_type": "code",
   "execution_count": 21,
   "metadata": {
    "scrolled": true
   },
   "outputs": [
    {
     "data": {
      "text/plain": [
       "0       2009\n",
       "1       2011\n",
       "2       2019\n",
       "3       2015\n",
       "4       2017\n",
       "        ... \n",
       "5777    2018\n",
       "5778    1999\n",
       "5779    2005\n",
       "5780    2015\n",
       "5781    2005\n",
       "Name: release_year, Length: 5782, dtype: object"
      ]
     },
     "execution_count": 21,
     "metadata": {},
     "output_type": "execute_result"
    }
   ],
   "source": [
    "# confirm the changes made \n",
    "budget_df[\"release_year\"]"
   ]
  },
  {
   "cell_type": "markdown",
   "metadata": {},
   "source": [
    "normalizing the columns by removing special characters and converting to float type"
   ]
  },
  {
   "cell_type": "code",
   "execution_count": 22,
   "metadata": {},
   "outputs": [],
   "source": [
    "# removing the special character before conversion\n",
    "budget_df[\"production_budget\"]=budget_df[\"production_budget\"].apply(lambda x: x.replace(\"$\",\"\"))\n",
    "budget_df[\"domestic_gross\"]=budget_df[\"domestic_gross\"].apply(lambda x: x.replace(\"$\",\"\"))\n",
    "\n",
    "budget_df[\"worldwide_gross\"]=budget_df[\"worldwide_gross\"].apply(lambda x: x.replace(\"$\",\"\"))\n"
   ]
  },
  {
   "cell_type": "code",
   "execution_count": 23,
   "metadata": {},
   "outputs": [],
   "source": [
    "budget_df[\"production_budget\"] = budget_df[\"production_budget\"].str.replace(',', '', regex=True).astype(float)\n",
    "\n",
    "budget_df[\"domestic_gross\"] = budget_df[\"domestic_gross\"].str.replace(',', '', regex=True).astype(float)\n",
    "budget_df[\"worldwide_gross\"] = budget_df[\"worldwide_gross\"].str.replace(',', '', regex=True).astype(float)\n",
    "\n"
   ]
  },
  {
   "cell_type": "code",
   "execution_count": 24,
   "metadata": {},
   "outputs": [],
   "source": [
    "# converting the year to int \n",
    "budget_df[\"release_year\"]=budget_df[\"release_year\"].astype(int)"
   ]
  },
  {
   "cell_type": "code",
   "execution_count": 25,
   "metadata": {},
   "outputs": [
    {
     "name": "stdout",
     "output_type": "stream",
     "text": [
      "<class 'pandas.core.frame.DataFrame'>\n",
      "Int64Index: 5782 entries, 0 to 5781\n",
      "Data columns (total 7 columns):\n",
      " #   Column             Non-Null Count  Dtype  \n",
      "---  ------             --------------  -----  \n",
      " 0   id                 5782 non-null   int64  \n",
      " 1   release_date       5782 non-null   object \n",
      " 2   movie_title        5782 non-null   object \n",
      " 3   production_budget  5782 non-null   float64\n",
      " 4   domestic_gross     5782 non-null   float64\n",
      " 5   worldwide_gross    5782 non-null   float64\n",
      " 6   release_year       5782 non-null   int32  \n",
      "dtypes: float64(3), int32(1), int64(1), object(2)\n",
      "memory usage: 338.8+ KB\n"
     ]
    }
   ],
   "source": [
    "budget_df.info()"
   ]
  },
  {
   "cell_type": "markdown",
   "metadata": {},
   "source": [
    "normalizing the title column to avoid duplications"
   ]
  },
  {
   "cell_type": "code",
   "execution_count": 26,
   "metadata": {},
   "outputs": [],
   "source": [
    "# removing special characters and lower casing the title\n",
    "gross_df[\"title\"]=gross_df[\"title\"].str.lower().str.replace(\"[^a-zA-Z0-9\\s]\",\"\").str.strip()"
   ]
  },
  {
   "cell_type": "code",
   "execution_count": 27,
   "metadata": {},
   "outputs": [],
   "source": [
    "gross_df[\"foreign_gross\"]=gross_df[\"foreign_gross\"].str.replace(\",\",\"\").astype(float)"
   ]
  },
  {
   "cell_type": "code",
   "execution_count": null,
   "metadata": {},
   "outputs": [],
   "source": []
  },
  {
   "cell_type": "markdown",
   "metadata": {},
   "source": [
    "#### Merging the dataset\n",
    "Merging the four datasets for further exploration and analysis of the data"
   ]
  },
  {
   "cell_type": "code",
   "execution_count": 28,
   "metadata": {},
   "outputs": [],
   "source": [
    "basics_gross_df=pd.merge(basics_df,gross_df,left_on=[\"primary_title\",\"start_year\"],right_on=[\"title\",\"year\"],how=\"inner\")"
   ]
  },
  {
   "cell_type": "code",
   "execution_count": 29,
   "metadata": {},
   "outputs": [],
   "source": [
    "basics_gross_ratings=pd.merge(basics_gross_df,ratings_df,on=\"tconst\",how=\"inner\")"
   ]
  },
  {
   "cell_type": "code",
   "execution_count": 30,
   "metadata": {},
   "outputs": [],
   "source": [
    "all_data=pd.merge(basics_gross_ratings,budget_df,left_on=[\"primary_title\",\"start_year\"],right_on=[\"movie_title\",\"release_year\"],how=\"inner\")"
   ]
  },
  {
   "cell_type": "code",
   "execution_count": 31,
   "metadata": {
    "scrolled": false
   },
   "outputs": [
    {
     "data": {
      "text/html": [
       "<div>\n",
       "<style scoped>\n",
       "    .dataframe tbody tr th:only-of-type {\n",
       "        vertical-align: middle;\n",
       "    }\n",
       "\n",
       "    .dataframe tbody tr th {\n",
       "        vertical-align: top;\n",
       "    }\n",
       "\n",
       "    .dataframe thead th {\n",
       "        text-align: right;\n",
       "    }\n",
       "</style>\n",
       "<table border=\"1\" class=\"dataframe\">\n",
       "  <thead>\n",
       "    <tr style=\"text-align: right;\">\n",
       "      <th></th>\n",
       "      <th>tconst</th>\n",
       "      <th>primary_title</th>\n",
       "      <th>original_title</th>\n",
       "      <th>start_year</th>\n",
       "      <th>runtime_minutes</th>\n",
       "      <th>genres</th>\n",
       "      <th>title</th>\n",
       "      <th>studio</th>\n",
       "      <th>domestic_gross_x</th>\n",
       "      <th>foreign_gross</th>\n",
       "      <th>year</th>\n",
       "      <th>averagerating</th>\n",
       "      <th>numvotes</th>\n",
       "      <th>id</th>\n",
       "      <th>release_date</th>\n",
       "      <th>movie_title</th>\n",
       "      <th>production_budget</th>\n",
       "      <th>domestic_gross_y</th>\n",
       "      <th>worldwide_gross</th>\n",
       "      <th>release_year</th>\n",
       "    </tr>\n",
       "  </thead>\n",
       "  <tbody>\n",
       "    <tr>\n",
       "      <th>0</th>\n",
       "      <td>tt0359950</td>\n",
       "      <td>the secret life of walter mitty</td>\n",
       "      <td>the secret life of walter mitty</td>\n",
       "      <td>2013</td>\n",
       "      <td>114.0</td>\n",
       "      <td>Adventure,Comedy,Drama</td>\n",
       "      <td>the secret life of walter mitty</td>\n",
       "      <td>Fox</td>\n",
       "      <td>58200000.0</td>\n",
       "      <td>129900000.0</td>\n",
       "      <td>2013</td>\n",
       "      <td>7.3</td>\n",
       "      <td>275300</td>\n",
       "      <td>37</td>\n",
       "      <td>Dec 25, 2013</td>\n",
       "      <td>the secret life of walter mitty</td>\n",
       "      <td>91000000.0</td>\n",
       "      <td>58236838.0</td>\n",
       "      <td>1.878612e+08</td>\n",
       "      <td>2013</td>\n",
       "    </tr>\n",
       "    <tr>\n",
       "      <th>1</th>\n",
       "      <td>tt0365907</td>\n",
       "      <td>a walk among the tombstones</td>\n",
       "      <td>a walk among the tombstones</td>\n",
       "      <td>2014</td>\n",
       "      <td>114.0</td>\n",
       "      <td>Action,Crime,Drama</td>\n",
       "      <td>a walk among the tombstones</td>\n",
       "      <td>Uni.</td>\n",
       "      <td>26300000.0</td>\n",
       "      <td>26900000.0</td>\n",
       "      <td>2014</td>\n",
       "      <td>6.5</td>\n",
       "      <td>105116</td>\n",
       "      <td>67</td>\n",
       "      <td>Sep 19, 2014</td>\n",
       "      <td>a walk among the tombstones</td>\n",
       "      <td>28000000.0</td>\n",
       "      <td>26017685.0</td>\n",
       "      <td>6.210859e+07</td>\n",
       "      <td>2014</td>\n",
       "    </tr>\n",
       "    <tr>\n",
       "      <th>2</th>\n",
       "      <td>tt0369610</td>\n",
       "      <td>jurassic world</td>\n",
       "      <td>jurassic world</td>\n",
       "      <td>2015</td>\n",
       "      <td>124.0</td>\n",
       "      <td>Action,Adventure,Sci-Fi</td>\n",
       "      <td>jurassic world</td>\n",
       "      <td>Uni.</td>\n",
       "      <td>652300000.0</td>\n",
       "      <td>1019.4</td>\n",
       "      <td>2015</td>\n",
       "      <td>7.0</td>\n",
       "      <td>539338</td>\n",
       "      <td>34</td>\n",
       "      <td>Jun 12, 2015</td>\n",
       "      <td>jurassic world</td>\n",
       "      <td>215000000.0</td>\n",
       "      <td>652270625.0</td>\n",
       "      <td>1.648855e+09</td>\n",
       "      <td>2015</td>\n",
       "    </tr>\n",
       "    <tr>\n",
       "      <th>3</th>\n",
       "      <td>tt0376136</td>\n",
       "      <td>the rum diary</td>\n",
       "      <td>the rum diary</td>\n",
       "      <td>2011</td>\n",
       "      <td>119.0</td>\n",
       "      <td>Comedy,Drama</td>\n",
       "      <td>the rum diary</td>\n",
       "      <td>FD</td>\n",
       "      <td>13100000.0</td>\n",
       "      <td>10800000.0</td>\n",
       "      <td>2011</td>\n",
       "      <td>6.2</td>\n",
       "      <td>94787</td>\n",
       "      <td>16</td>\n",
       "      <td>Oct 28, 2011</td>\n",
       "      <td>the rum diary</td>\n",
       "      <td>45000000.0</td>\n",
       "      <td>13109815.0</td>\n",
       "      <td>2.154473e+07</td>\n",
       "      <td>2011</td>\n",
       "    </tr>\n",
       "    <tr>\n",
       "      <th>4</th>\n",
       "      <td>tt0383010</td>\n",
       "      <td>the three stooges</td>\n",
       "      <td>the three stooges</td>\n",
       "      <td>2012</td>\n",
       "      <td>92.0</td>\n",
       "      <td>Comedy,Family</td>\n",
       "      <td>the three stooges</td>\n",
       "      <td>Fox</td>\n",
       "      <td>44300000.0</td>\n",
       "      <td>10500000.0</td>\n",
       "      <td>2012</td>\n",
       "      <td>5.1</td>\n",
       "      <td>28570</td>\n",
       "      <td>4</td>\n",
       "      <td>Apr 13, 2012</td>\n",
       "      <td>the three stooges</td>\n",
       "      <td>30000000.0</td>\n",
       "      <td>44338224.0</td>\n",
       "      <td>5.405225e+07</td>\n",
       "      <td>2012</td>\n",
       "    </tr>\n",
       "  </tbody>\n",
       "</table>\n",
       "</div>"
      ],
      "text/plain": [
       "      tconst                    primary_title  \\\n",
       "0  tt0359950  the secret life of walter mitty   \n",
       "1  tt0365907      a walk among the tombstones   \n",
       "2  tt0369610                   jurassic world   \n",
       "3  tt0376136                    the rum diary   \n",
       "4  tt0383010                the three stooges   \n",
       "\n",
       "                    original_title  start_year  runtime_minutes  \\\n",
       "0  the secret life of walter mitty        2013            114.0   \n",
       "1      a walk among the tombstones        2014            114.0   \n",
       "2                   jurassic world        2015            124.0   \n",
       "3                    the rum diary        2011            119.0   \n",
       "4                the three stooges        2012             92.0   \n",
       "\n",
       "                    genres                            title studio  \\\n",
       "0   Adventure,Comedy,Drama  the secret life of walter mitty    Fox   \n",
       "1       Action,Crime,Drama      a walk among the tombstones   Uni.   \n",
       "2  Action,Adventure,Sci-Fi                   jurassic world   Uni.   \n",
       "3             Comedy,Drama                    the rum diary     FD   \n",
       "4            Comedy,Family                the three stooges    Fox   \n",
       "\n",
       "   domestic_gross_x  foreign_gross  year  averagerating  numvotes  id  \\\n",
       "0        58200000.0    129900000.0  2013            7.3    275300  37   \n",
       "1        26300000.0     26900000.0  2014            6.5    105116  67   \n",
       "2       652300000.0         1019.4  2015            7.0    539338  34   \n",
       "3        13100000.0     10800000.0  2011            6.2     94787  16   \n",
       "4        44300000.0     10500000.0  2012            5.1     28570   4   \n",
       "\n",
       "   release_date                      movie_title  production_budget  \\\n",
       "0  Dec 25, 2013  the secret life of walter mitty         91000000.0   \n",
       "1  Sep 19, 2014      a walk among the tombstones         28000000.0   \n",
       "2  Jun 12, 2015                   jurassic world        215000000.0   \n",
       "3  Oct 28, 2011                    the rum diary         45000000.0   \n",
       "4  Apr 13, 2012                the three stooges         30000000.0   \n",
       "\n",
       "   domestic_gross_y  worldwide_gross  release_year  \n",
       "0        58236838.0     1.878612e+08          2013  \n",
       "1        26017685.0     6.210859e+07          2014  \n",
       "2       652270625.0     1.648855e+09          2015  \n",
       "3        13109815.0     2.154473e+07          2011  \n",
       "4        44338224.0     5.405225e+07          2012  "
      ]
     },
     "execution_count": 31,
     "metadata": {},
     "output_type": "execute_result"
    }
   ],
   "source": [
    "all_data.head()"
   ]
  },
  {
   "cell_type": "code",
   "execution_count": 32,
   "metadata": {},
   "outputs": [
    {
     "data": {
      "text/plain": [
       "tconst                 0\n",
       "primary_title          0\n",
       "original_title         0\n",
       "start_year             0\n",
       "runtime_minutes        3\n",
       "genres                 1\n",
       "title                  0\n",
       "studio                 0\n",
       "domestic_gross_x       1\n",
       "foreign_gross        113\n",
       "year                   0\n",
       "averagerating          0\n",
       "numvotes               0\n",
       "id                     0\n",
       "release_date           0\n",
       "movie_title            0\n",
       "production_budget      0\n",
       "domestic_gross_y       0\n",
       "worldwide_gross        0\n",
       "release_year           0\n",
       "dtype: int64"
      ]
     },
     "execution_count": 32,
     "metadata": {},
     "output_type": "execute_result"
    }
   ],
   "source": [
    "# checking for null values\n",
    "all_data.isna().sum()"
   ]
  },
  {
   "cell_type": "code",
   "execution_count": 33,
   "metadata": {
    "scrolled": true
   },
   "outputs": [
    {
     "data": {
      "text/plain": [
       "0"
      ]
     },
     "execution_count": 33,
     "metadata": {},
     "output_type": "execute_result"
    }
   ],
   "source": [
    "# checking for duplicates\n",
    "all_data.duplicated().sum()"
   ]
  },
  {
   "cell_type": "markdown",
   "metadata": {},
   "source": [
    "we have many columns after merging the datasets so i am removing any unneccessary columns for easier readability "
   ]
  },
  {
   "cell_type": "code",
   "execution_count": 34,
   "metadata": {
    "scrolled": true
   },
   "outputs": [],
   "source": [
    "# removing columns\n",
    "all_data.drop(columns=[\"original_title\",\"title\",\"domestic_gross_x\",\"foreign_gross\",\"year\",\"id\",\"movie_title\",\"release_year\"],inplace=True)"
   ]
  },
  {
   "cell_type": "code",
   "execution_count": 35,
   "metadata": {},
   "outputs": [
    {
     "data": {
      "text/plain": [
       "Index(['tconst', 'primary_title', 'start_year', 'runtime_minutes', 'genres',\n",
       "       'studio', 'averagerating', 'numvotes', 'release_date',\n",
       "       'production_budget', 'domestic_gross_y', 'worldwide_gross'],\n",
       "      dtype='object')"
      ]
     },
     "execution_count": 35,
     "metadata": {},
     "output_type": "execute_result"
    }
   ],
   "source": [
    "all_data.columns"
   ]
  },
  {
   "cell_type": "markdown",
   "metadata": {},
   "source": [
    "#### Feature Engineering\n",
    "i added a new column called profit which hold records of the profits made by every movie\n"
   ]
  },
  {
   "cell_type": "code",
   "execution_count": 36,
   "metadata": {},
   "outputs": [],
   "source": [
    "all_data[\"Profit\"]=all_data[\"worldwide_gross\"] - all_data[\"production_budget\"]"
   ]
  },
  {
   "cell_type": "code",
   "execution_count": 37,
   "metadata": {
    "scrolled": true
   },
   "outputs": [
    {
     "name": "stdout",
     "output_type": "stream",
     "text": [
      "<class 'pandas.core.frame.DataFrame'>\n",
      "Int64Index: 1138 entries, 0 to 1137\n",
      "Data columns (total 13 columns):\n",
      " #   Column             Non-Null Count  Dtype  \n",
      "---  ------             --------------  -----  \n",
      " 0   tconst             1138 non-null   object \n",
      " 1   primary_title      1138 non-null   object \n",
      " 2   start_year         1138 non-null   int64  \n",
      " 3   runtime_minutes    1135 non-null   float64\n",
      " 4   genres             1137 non-null   object \n",
      " 5   studio             1138 non-null   object \n",
      " 6   averagerating      1138 non-null   float64\n",
      " 7   numvotes           1138 non-null   int64  \n",
      " 8   release_date       1138 non-null   object \n",
      " 9   production_budget  1138 non-null   float64\n",
      " 10  domestic_gross_y   1138 non-null   float64\n",
      " 11  worldwide_gross    1138 non-null   float64\n",
      " 12  Profit             1138 non-null   float64\n",
      "dtypes: float64(6), int64(2), object(5)\n",
      "memory usage: 124.5+ KB\n"
     ]
    }
   ],
   "source": [
    "all_data.info()"
   ]
  },
  {
   "cell_type": "code",
   "execution_count": 38,
   "metadata": {
    "scrolled": true
   },
   "outputs": [
    {
     "data": {
      "text/html": [
       "<div>\n",
       "<style scoped>\n",
       "    .dataframe tbody tr th:only-of-type {\n",
       "        vertical-align: middle;\n",
       "    }\n",
       "\n",
       "    .dataframe tbody tr th {\n",
       "        vertical-align: top;\n",
       "    }\n",
       "\n",
       "    .dataframe thead th {\n",
       "        text-align: right;\n",
       "    }\n",
       "</style>\n",
       "<table border=\"1\" class=\"dataframe\">\n",
       "  <thead>\n",
       "    <tr style=\"text-align: right;\">\n",
       "      <th></th>\n",
       "      <th>start_year</th>\n",
       "      <th>runtime_minutes</th>\n",
       "      <th>averagerating</th>\n",
       "      <th>numvotes</th>\n",
       "      <th>production_budget</th>\n",
       "      <th>domestic_gross_y</th>\n",
       "      <th>worldwide_gross</th>\n",
       "      <th>Profit</th>\n",
       "    </tr>\n",
       "  </thead>\n",
       "  <tbody>\n",
       "    <tr>\n",
       "      <th>count</th>\n",
       "      <td>1138.000000</td>\n",
       "      <td>1135.000000</td>\n",
       "      <td>1138.000000</td>\n",
       "      <td>1.138000e+03</td>\n",
       "      <td>1.138000e+03</td>\n",
       "      <td>1.138000e+03</td>\n",
       "      <td>1.138000e+03</td>\n",
       "      <td>1.138000e+03</td>\n",
       "    </tr>\n",
       "    <tr>\n",
       "      <th>mean</th>\n",
       "      <td>2013.684534</td>\n",
       "      <td>109.840529</td>\n",
       "      <td>6.457293</td>\n",
       "      <td>1.410683e+05</td>\n",
       "      <td>5.181600e+07</td>\n",
       "      <td>6.800351e+07</td>\n",
       "      <td>1.701666e+08</td>\n",
       "      <td>1.183506e+08</td>\n",
       "    </tr>\n",
       "    <tr>\n",
       "      <th>std</th>\n",
       "      <td>2.552138</td>\n",
       "      <td>17.831915</td>\n",
       "      <td>0.934158</td>\n",
       "      <td>1.733562e+05</td>\n",
       "      <td>5.798011e+07</td>\n",
       "      <td>8.769610e+07</td>\n",
       "      <td>2.441248e+08</td>\n",
       "      <td>2.023987e+08</td>\n",
       "    </tr>\n",
       "    <tr>\n",
       "      <th>min</th>\n",
       "      <td>2010.000000</td>\n",
       "      <td>25.000000</td>\n",
       "      <td>1.600000</td>\n",
       "      <td>6.000000e+00</td>\n",
       "      <td>5.000000e+04</td>\n",
       "      <td>0.000000e+00</td>\n",
       "      <td>1.177400e+04</td>\n",
       "      <td>-1.104502e+08</td>\n",
       "    </tr>\n",
       "    <tr>\n",
       "      <th>25%</th>\n",
       "      <td>2011.000000</td>\n",
       "      <td>97.000000</td>\n",
       "      <td>5.900000</td>\n",
       "      <td>3.609675e+04</td>\n",
       "      <td>1.300000e+07</td>\n",
       "      <td>1.399161e+07</td>\n",
       "      <td>2.657253e+07</td>\n",
       "      <td>6.339918e+06</td>\n",
       "    </tr>\n",
       "    <tr>\n",
       "      <th>50%</th>\n",
       "      <td>2014.000000</td>\n",
       "      <td>107.000000</td>\n",
       "      <td>6.500000</td>\n",
       "      <td>8.326900e+04</td>\n",
       "      <td>3.000000e+07</td>\n",
       "      <td>3.856355e+07</td>\n",
       "      <td>7.784765e+07</td>\n",
       "      <td>4.350432e+07</td>\n",
       "    </tr>\n",
       "    <tr>\n",
       "      <th>75%</th>\n",
       "      <td>2016.000000</td>\n",
       "      <td>120.000000</td>\n",
       "      <td>7.100000</td>\n",
       "      <td>1.754232e+05</td>\n",
       "      <td>6.500000e+07</td>\n",
       "      <td>8.357794e+07</td>\n",
       "      <td>2.030490e+08</td>\n",
       "      <td>1.357154e+08</td>\n",
       "    </tr>\n",
       "    <tr>\n",
       "      <th>max</th>\n",
       "      <td>2018.000000</td>\n",
       "      <td>180.000000</td>\n",
       "      <td>8.800000</td>\n",
       "      <td>1.841066e+06</td>\n",
       "      <td>4.106000e+08</td>\n",
       "      <td>7.000596e+08</td>\n",
       "      <td>2.048134e+09</td>\n",
       "      <td>1.748134e+09</td>\n",
       "    </tr>\n",
       "  </tbody>\n",
       "</table>\n",
       "</div>"
      ],
      "text/plain": [
       "        start_year  runtime_minutes  averagerating      numvotes  \\\n",
       "count  1138.000000      1135.000000    1138.000000  1.138000e+03   \n",
       "mean   2013.684534       109.840529       6.457293  1.410683e+05   \n",
       "std       2.552138        17.831915       0.934158  1.733562e+05   \n",
       "min    2010.000000        25.000000       1.600000  6.000000e+00   \n",
       "25%    2011.000000        97.000000       5.900000  3.609675e+04   \n",
       "50%    2014.000000       107.000000       6.500000  8.326900e+04   \n",
       "75%    2016.000000       120.000000       7.100000  1.754232e+05   \n",
       "max    2018.000000       180.000000       8.800000  1.841066e+06   \n",
       "\n",
       "       production_budget  domestic_gross_y  worldwide_gross        Profit  \n",
       "count       1.138000e+03      1.138000e+03     1.138000e+03  1.138000e+03  \n",
       "mean        5.181600e+07      6.800351e+07     1.701666e+08  1.183506e+08  \n",
       "std         5.798011e+07      8.769610e+07     2.441248e+08  2.023987e+08  \n",
       "min         5.000000e+04      0.000000e+00     1.177400e+04 -1.104502e+08  \n",
       "25%         1.300000e+07      1.399161e+07     2.657253e+07  6.339918e+06  \n",
       "50%         3.000000e+07      3.856355e+07     7.784765e+07  4.350432e+07  \n",
       "75%         6.500000e+07      8.357794e+07     2.030490e+08  1.357154e+08  \n",
       "max         4.106000e+08      7.000596e+08     2.048134e+09  1.748134e+09  "
      ]
     },
     "execution_count": 38,
     "metadata": {},
     "output_type": "execute_result"
    }
   ],
   "source": [
    "all_data.describe()"
   ]
  },
  {
   "cell_type": "markdown",
   "metadata": {},
   "source": [
    "spliting the release_date to get the months so i can find the seasons in which movies are released"
   ]
  },
  {
   "cell_type": "code",
   "execution_count": 39,
   "metadata": {},
   "outputs": [],
   "source": [
    "all_data['release_date'] = pd.to_datetime(all_data['release_date'], format='%b %d, %Y')\n",
    "all_data['release_month'] = all_data['release_date'].dt.month"
   ]
  },
  {
   "cell_type": "code",
   "execution_count": 40,
   "metadata": {},
   "outputs": [],
   "source": [
    "def get_season(month):\n",
    "    if month in [12, 1, 2]:  \n",
    "        return 'Winter'\n",
    "    elif month in [6, 7, 8]:  \n",
    "        return 'Summer'\n",
    "    elif month in [3, 4, 5]:  \n",
    "        return 'Spring'\n",
    "    else:  \n",
    "        return 'Autumn'\n",
    "\n",
    "all_data['release_season'] = all_data['release_month'].apply(get_season)\n"
   ]
  },
  {
   "cell_type": "markdown",
   "metadata": {},
   "source": [
    "### Cleaning the data\n",
    "handling the missing values in the Genres and runtime_minutes.Since the number of missing values are few ,i choose to delete the rows for better analysis of data and to avoid Noise"
   ]
  },
  {
   "cell_type": "code",
   "execution_count": 41,
   "metadata": {},
   "outputs": [],
   "source": [
    "# dropping Nulls in Genres\n",
    "all_data.dropna(subset=[\"genres\"],inplace=True)"
   ]
  },
  {
   "cell_type": "code",
   "execution_count": 42,
   "metadata": {},
   "outputs": [
    {
     "data": {
      "text/plain": [
       "0"
      ]
     },
     "execution_count": 42,
     "metadata": {},
     "output_type": "execute_result"
    }
   ],
   "source": [
    "# checking for missing values\n",
    "all_data[\"genres\"].isna().sum()"
   ]
  },
  {
   "cell_type": "code",
   "execution_count": 43,
   "metadata": {},
   "outputs": [],
   "source": [
    "# dropping Nulls in runtime_minutes\n",
    "all_data.dropna(subset=[\"runtime_minutes\"],inplace=True)"
   ]
  },
  {
   "cell_type": "code",
   "execution_count": 44,
   "metadata": {},
   "outputs": [
    {
     "data": {
      "text/plain": [
       "0"
      ]
     },
     "execution_count": 44,
     "metadata": {},
     "output_type": "execute_result"
    }
   ],
   "source": [
    "all_data[\"runtime_minutes\"].isna().sum()"
   ]
  },
  {
   "cell_type": "code",
   "execution_count": 45,
   "metadata": {},
   "outputs": [
    {
     "data": {
      "text/html": [
       "<div>\n",
       "<style scoped>\n",
       "    .dataframe tbody tr th:only-of-type {\n",
       "        vertical-align: middle;\n",
       "    }\n",
       "\n",
       "    .dataframe tbody tr th {\n",
       "        vertical-align: top;\n",
       "    }\n",
       "\n",
       "    .dataframe thead th {\n",
       "        text-align: right;\n",
       "    }\n",
       "</style>\n",
       "<table border=\"1\" class=\"dataframe\">\n",
       "  <thead>\n",
       "    <tr style=\"text-align: right;\">\n",
       "      <th></th>\n",
       "      <th>tconst</th>\n",
       "      <th>primary_title</th>\n",
       "      <th>start_year</th>\n",
       "      <th>runtime_minutes</th>\n",
       "      <th>genres</th>\n",
       "      <th>studio</th>\n",
       "      <th>averagerating</th>\n",
       "      <th>numvotes</th>\n",
       "      <th>release_date</th>\n",
       "      <th>production_budget</th>\n",
       "      <th>domestic_gross_y</th>\n",
       "      <th>worldwide_gross</th>\n",
       "      <th>Profit</th>\n",
       "      <th>release_month</th>\n",
       "      <th>release_season</th>\n",
       "    </tr>\n",
       "  </thead>\n",
       "  <tbody>\n",
       "    <tr>\n",
       "      <th>0</th>\n",
       "      <td>tt0359950</td>\n",
       "      <td>the secret life of walter mitty</td>\n",
       "      <td>2013</td>\n",
       "      <td>114.0</td>\n",
       "      <td>Adventure,Comedy,Drama</td>\n",
       "      <td>Fox</td>\n",
       "      <td>7.3</td>\n",
       "      <td>275300</td>\n",
       "      <td>2013-12-25</td>\n",
       "      <td>91000000.0</td>\n",
       "      <td>58236838.0</td>\n",
       "      <td>1.878612e+08</td>\n",
       "      <td>9.686118e+07</td>\n",
       "      <td>12</td>\n",
       "      <td>Winter</td>\n",
       "    </tr>\n",
       "    <tr>\n",
       "      <th>1</th>\n",
       "      <td>tt0365907</td>\n",
       "      <td>a walk among the tombstones</td>\n",
       "      <td>2014</td>\n",
       "      <td>114.0</td>\n",
       "      <td>Action,Crime,Drama</td>\n",
       "      <td>Uni.</td>\n",
       "      <td>6.5</td>\n",
       "      <td>105116</td>\n",
       "      <td>2014-09-19</td>\n",
       "      <td>28000000.0</td>\n",
       "      <td>26017685.0</td>\n",
       "      <td>6.210859e+07</td>\n",
       "      <td>3.410859e+07</td>\n",
       "      <td>9</td>\n",
       "      <td>Autumn</td>\n",
       "    </tr>\n",
       "    <tr>\n",
       "      <th>2</th>\n",
       "      <td>tt0369610</td>\n",
       "      <td>jurassic world</td>\n",
       "      <td>2015</td>\n",
       "      <td>124.0</td>\n",
       "      <td>Action,Adventure,Sci-Fi</td>\n",
       "      <td>Uni.</td>\n",
       "      <td>7.0</td>\n",
       "      <td>539338</td>\n",
       "      <td>2015-06-12</td>\n",
       "      <td>215000000.0</td>\n",
       "      <td>652270625.0</td>\n",
       "      <td>1.648855e+09</td>\n",
       "      <td>1.433855e+09</td>\n",
       "      <td>6</td>\n",
       "      <td>Summer</td>\n",
       "    </tr>\n",
       "    <tr>\n",
       "      <th>3</th>\n",
       "      <td>tt0376136</td>\n",
       "      <td>the rum diary</td>\n",
       "      <td>2011</td>\n",
       "      <td>119.0</td>\n",
       "      <td>Comedy,Drama</td>\n",
       "      <td>FD</td>\n",
       "      <td>6.2</td>\n",
       "      <td>94787</td>\n",
       "      <td>2011-10-28</td>\n",
       "      <td>45000000.0</td>\n",
       "      <td>13109815.0</td>\n",
       "      <td>2.154473e+07</td>\n",
       "      <td>-2.345527e+07</td>\n",
       "      <td>10</td>\n",
       "      <td>Autumn</td>\n",
       "    </tr>\n",
       "    <tr>\n",
       "      <th>4</th>\n",
       "      <td>tt0383010</td>\n",
       "      <td>the three stooges</td>\n",
       "      <td>2012</td>\n",
       "      <td>92.0</td>\n",
       "      <td>Comedy,Family</td>\n",
       "      <td>Fox</td>\n",
       "      <td>5.1</td>\n",
       "      <td>28570</td>\n",
       "      <td>2012-04-13</td>\n",
       "      <td>30000000.0</td>\n",
       "      <td>44338224.0</td>\n",
       "      <td>5.405225e+07</td>\n",
       "      <td>2.405225e+07</td>\n",
       "      <td>4</td>\n",
       "      <td>Spring</td>\n",
       "    </tr>\n",
       "  </tbody>\n",
       "</table>\n",
       "</div>"
      ],
      "text/plain": [
       "      tconst                    primary_title  start_year  runtime_minutes  \\\n",
       "0  tt0359950  the secret life of walter mitty        2013            114.0   \n",
       "1  tt0365907      a walk among the tombstones        2014            114.0   \n",
       "2  tt0369610                   jurassic world        2015            124.0   \n",
       "3  tt0376136                    the rum diary        2011            119.0   \n",
       "4  tt0383010                the three stooges        2012             92.0   \n",
       "\n",
       "                    genres studio  averagerating  numvotes release_date  \\\n",
       "0   Adventure,Comedy,Drama    Fox            7.3    275300   2013-12-25   \n",
       "1       Action,Crime,Drama   Uni.            6.5    105116   2014-09-19   \n",
       "2  Action,Adventure,Sci-Fi   Uni.            7.0    539338   2015-06-12   \n",
       "3             Comedy,Drama     FD            6.2     94787   2011-10-28   \n",
       "4            Comedy,Family    Fox            5.1     28570   2012-04-13   \n",
       "\n",
       "   production_budget  domestic_gross_y  worldwide_gross        Profit  \\\n",
       "0         91000000.0        58236838.0     1.878612e+08  9.686118e+07   \n",
       "1         28000000.0        26017685.0     6.210859e+07  3.410859e+07   \n",
       "2        215000000.0       652270625.0     1.648855e+09  1.433855e+09   \n",
       "3         45000000.0        13109815.0     2.154473e+07 -2.345527e+07   \n",
       "4         30000000.0        44338224.0     5.405225e+07  2.405225e+07   \n",
       "\n",
       "   release_month release_season  \n",
       "0             12         Winter  \n",
       "1              9         Autumn  \n",
       "2              6         Summer  \n",
       "3             10         Autumn  \n",
       "4              4         Spring  "
      ]
     },
     "execution_count": 45,
     "metadata": {},
     "output_type": "execute_result"
    }
   ],
   "source": [
    "# creating a copy of the data for analysis\n",
    "uncomb_genr=all_data.copy()\n",
    "uncomb_genr.head()"
   ]
  },
  {
   "cell_type": "code",
   "execution_count": 46,
   "metadata": {},
   "outputs": [],
   "source": [
    "# splitting the genres combination to specific genres\n",
    "uncomb_genr['genres'] = uncomb_genr['genres'].str.split(',')\n",
    "uncomb_genr=uncomb_genr.explode('genres')"
   ]
  },
  {
   "cell_type": "code",
   "execution_count": 47,
   "metadata": {},
   "outputs": [
    {
     "data": {
      "text/html": [
       "<div>\n",
       "<style scoped>\n",
       "    .dataframe tbody tr th:only-of-type {\n",
       "        vertical-align: middle;\n",
       "    }\n",
       "\n",
       "    .dataframe tbody tr th {\n",
       "        vertical-align: top;\n",
       "    }\n",
       "\n",
       "    .dataframe thead th {\n",
       "        text-align: right;\n",
       "    }\n",
       "</style>\n",
       "<table border=\"1\" class=\"dataframe\">\n",
       "  <thead>\n",
       "    <tr style=\"text-align: right;\">\n",
       "      <th></th>\n",
       "      <th>tconst</th>\n",
       "      <th>primary_title</th>\n",
       "      <th>start_year</th>\n",
       "      <th>runtime_minutes</th>\n",
       "      <th>genres</th>\n",
       "      <th>studio</th>\n",
       "      <th>averagerating</th>\n",
       "      <th>numvotes</th>\n",
       "      <th>release_date</th>\n",
       "      <th>production_budget</th>\n",
       "      <th>domestic_gross_y</th>\n",
       "      <th>worldwide_gross</th>\n",
       "      <th>Profit</th>\n",
       "      <th>release_month</th>\n",
       "      <th>release_season</th>\n",
       "    </tr>\n",
       "  </thead>\n",
       "  <tbody>\n",
       "    <tr>\n",
       "      <th>0</th>\n",
       "      <td>tt0359950</td>\n",
       "      <td>the secret life of walter mitty</td>\n",
       "      <td>2013</td>\n",
       "      <td>114.0</td>\n",
       "      <td>Adventure</td>\n",
       "      <td>Fox</td>\n",
       "      <td>7.3</td>\n",
       "      <td>275300</td>\n",
       "      <td>2013-12-25</td>\n",
       "      <td>91000000.0</td>\n",
       "      <td>58236838.0</td>\n",
       "      <td>187861183.0</td>\n",
       "      <td>96861183.0</td>\n",
       "      <td>12</td>\n",
       "      <td>Winter</td>\n",
       "    </tr>\n",
       "    <tr>\n",
       "      <th>0</th>\n",
       "      <td>tt0359950</td>\n",
       "      <td>the secret life of walter mitty</td>\n",
       "      <td>2013</td>\n",
       "      <td>114.0</td>\n",
       "      <td>Comedy</td>\n",
       "      <td>Fox</td>\n",
       "      <td>7.3</td>\n",
       "      <td>275300</td>\n",
       "      <td>2013-12-25</td>\n",
       "      <td>91000000.0</td>\n",
       "      <td>58236838.0</td>\n",
       "      <td>187861183.0</td>\n",
       "      <td>96861183.0</td>\n",
       "      <td>12</td>\n",
       "      <td>Winter</td>\n",
       "    </tr>\n",
       "    <tr>\n",
       "      <th>0</th>\n",
       "      <td>tt0359950</td>\n",
       "      <td>the secret life of walter mitty</td>\n",
       "      <td>2013</td>\n",
       "      <td>114.0</td>\n",
       "      <td>Drama</td>\n",
       "      <td>Fox</td>\n",
       "      <td>7.3</td>\n",
       "      <td>275300</td>\n",
       "      <td>2013-12-25</td>\n",
       "      <td>91000000.0</td>\n",
       "      <td>58236838.0</td>\n",
       "      <td>187861183.0</td>\n",
       "      <td>96861183.0</td>\n",
       "      <td>12</td>\n",
       "      <td>Winter</td>\n",
       "    </tr>\n",
       "    <tr>\n",
       "      <th>1</th>\n",
       "      <td>tt0365907</td>\n",
       "      <td>a walk among the tombstones</td>\n",
       "      <td>2014</td>\n",
       "      <td>114.0</td>\n",
       "      <td>Action</td>\n",
       "      <td>Uni.</td>\n",
       "      <td>6.5</td>\n",
       "      <td>105116</td>\n",
       "      <td>2014-09-19</td>\n",
       "      <td>28000000.0</td>\n",
       "      <td>26017685.0</td>\n",
       "      <td>62108587.0</td>\n",
       "      <td>34108587.0</td>\n",
       "      <td>9</td>\n",
       "      <td>Autumn</td>\n",
       "    </tr>\n",
       "    <tr>\n",
       "      <th>1</th>\n",
       "      <td>tt0365907</td>\n",
       "      <td>a walk among the tombstones</td>\n",
       "      <td>2014</td>\n",
       "      <td>114.0</td>\n",
       "      <td>Crime</td>\n",
       "      <td>Uni.</td>\n",
       "      <td>6.5</td>\n",
       "      <td>105116</td>\n",
       "      <td>2014-09-19</td>\n",
       "      <td>28000000.0</td>\n",
       "      <td>26017685.0</td>\n",
       "      <td>62108587.0</td>\n",
       "      <td>34108587.0</td>\n",
       "      <td>9</td>\n",
       "      <td>Autumn</td>\n",
       "    </tr>\n",
       "  </tbody>\n",
       "</table>\n",
       "</div>"
      ],
      "text/plain": [
       "      tconst                    primary_title  start_year  runtime_minutes  \\\n",
       "0  tt0359950  the secret life of walter mitty        2013            114.0   \n",
       "0  tt0359950  the secret life of walter mitty        2013            114.0   \n",
       "0  tt0359950  the secret life of walter mitty        2013            114.0   \n",
       "1  tt0365907      a walk among the tombstones        2014            114.0   \n",
       "1  tt0365907      a walk among the tombstones        2014            114.0   \n",
       "\n",
       "      genres studio  averagerating  numvotes release_date  production_budget  \\\n",
       "0  Adventure    Fox            7.3    275300   2013-12-25         91000000.0   \n",
       "0     Comedy    Fox            7.3    275300   2013-12-25         91000000.0   \n",
       "0      Drama    Fox            7.3    275300   2013-12-25         91000000.0   \n",
       "1     Action   Uni.            6.5    105116   2014-09-19         28000000.0   \n",
       "1      Crime   Uni.            6.5    105116   2014-09-19         28000000.0   \n",
       "\n",
       "   domestic_gross_y  worldwide_gross      Profit  release_month release_season  \n",
       "0        58236838.0      187861183.0  96861183.0             12         Winter  \n",
       "0        58236838.0      187861183.0  96861183.0             12         Winter  \n",
       "0        58236838.0      187861183.0  96861183.0             12         Winter  \n",
       "1        26017685.0       62108587.0  34108587.0              9         Autumn  \n",
       "1        26017685.0       62108587.0  34108587.0              9         Autumn  "
      ]
     },
     "execution_count": 47,
     "metadata": {},
     "output_type": "execute_result"
    }
   ],
   "source": [
    "uncomb_genr.head()"
   ]
  },
  {
   "cell_type": "markdown",
   "metadata": {},
   "source": [
    "## Exploratory Data Analysis \n",
    "### Data Analysis and Visualization"
   ]
  },
  {
   "cell_type": "code",
   "execution_count": 48,
   "metadata": {},
   "outputs": [],
   "source": [
    "# Data Analysis\n",
    "Grouped_genres=uncomb_genr.groupby(\"genres\")"
   ]
  },
  {
   "cell_type": "code",
   "execution_count": 49,
   "metadata": {},
   "outputs": [
    {
     "data": {
      "text/html": [
       "<div>\n",
       "<style scoped>\n",
       "    .dataframe tbody tr th:only-of-type {\n",
       "        vertical-align: middle;\n",
       "    }\n",
       "\n",
       "    .dataframe tbody tr th {\n",
       "        vertical-align: top;\n",
       "    }\n",
       "\n",
       "    .dataframe thead th {\n",
       "        text-align: right;\n",
       "    }\n",
       "</style>\n",
       "<table border=\"1\" class=\"dataframe\">\n",
       "  <thead>\n",
       "    <tr style=\"text-align: right;\">\n",
       "      <th></th>\n",
       "      <th>median</th>\n",
       "      <th>sum</th>\n",
       "    </tr>\n",
       "    <tr>\n",
       "      <th>genres</th>\n",
       "      <th></th>\n",
       "      <th></th>\n",
       "    </tr>\n",
       "  </thead>\n",
       "  <tbody>\n",
       "    <tr>\n",
       "      <th>Action</th>\n",
       "      <td>77551594.0</td>\n",
       "      <td>6.628661e+10</td>\n",
       "    </tr>\n",
       "    <tr>\n",
       "      <th>Adventure</th>\n",
       "      <td>155270083.0</td>\n",
       "      <td>7.925206e+10</td>\n",
       "    </tr>\n",
       "    <tr>\n",
       "      <th>Animation</th>\n",
       "      <td>234942531.0</td>\n",
       "      <td>2.790583e+10</td>\n",
       "    </tr>\n",
       "    <tr>\n",
       "      <th>Biography</th>\n",
       "      <td>23296424.0</td>\n",
       "      <td>7.465716e+09</td>\n",
       "    </tr>\n",
       "    <tr>\n",
       "      <th>Comedy</th>\n",
       "      <td>49339196.5</td>\n",
       "      <td>4.796520e+10</td>\n",
       "    </tr>\n",
       "    <tr>\n",
       "      <th>Crime</th>\n",
       "      <td>26305746.0</td>\n",
       "      <td>1.098953e+10</td>\n",
       "    </tr>\n",
       "    <tr>\n",
       "      <th>Documentary</th>\n",
       "      <td>20700439.0</td>\n",
       "      <td>6.155039e+08</td>\n",
       "    </tr>\n",
       "    <tr>\n",
       "      <th>Drama</th>\n",
       "      <td>21839171.5</td>\n",
       "      <td>3.094192e+10</td>\n",
       "    </tr>\n",
       "    <tr>\n",
       "      <th>Family</th>\n",
       "      <td>56840757.0</td>\n",
       "      <td>8.157379e+09</td>\n",
       "    </tr>\n",
       "    <tr>\n",
       "      <th>Fantasy</th>\n",
       "      <td>50972756.0</td>\n",
       "      <td>1.538356e+10</td>\n",
       "    </tr>\n",
       "    <tr>\n",
       "      <th>History</th>\n",
       "      <td>46395116.0</td>\n",
       "      <td>2.551533e+09</td>\n",
       "    </tr>\n",
       "    <tr>\n",
       "      <th>Horror</th>\n",
       "      <td>43191195.5</td>\n",
       "      <td>8.985128e+09</td>\n",
       "    </tr>\n",
       "    <tr>\n",
       "      <th>Music</th>\n",
       "      <td>23166033.0</td>\n",
       "      <td>2.736731e+09</td>\n",
       "    </tr>\n",
       "    <tr>\n",
       "      <th>Musical</th>\n",
       "      <td>39040070.5</td>\n",
       "      <td>3.717776e+08</td>\n",
       "    </tr>\n",
       "    <tr>\n",
       "      <th>Mystery</th>\n",
       "      <td>53354114.0</td>\n",
       "      <td>7.339502e+09</td>\n",
       "    </tr>\n",
       "    <tr>\n",
       "      <th>Romance</th>\n",
       "      <td>28680977.0</td>\n",
       "      <td>8.337572e+09</td>\n",
       "    </tr>\n",
       "    <tr>\n",
       "      <th>Sci-Fi</th>\n",
       "      <td>155084849.0</td>\n",
       "      <td>2.909932e+10</td>\n",
       "    </tr>\n",
       "    <tr>\n",
       "      <th>Sport</th>\n",
       "      <td>28527161.0</td>\n",
       "      <td>8.291482e+08</td>\n",
       "    </tr>\n",
       "    <tr>\n",
       "      <th>Thriller</th>\n",
       "      <td>46690043.5</td>\n",
       "      <td>2.007941e+10</td>\n",
       "    </tr>\n",
       "    <tr>\n",
       "      <th>War</th>\n",
       "      <td>-1564824.0</td>\n",
       "      <td>4.105903e+08</td>\n",
       "    </tr>\n",
       "    <tr>\n",
       "      <th>Western</th>\n",
       "      <td>-417870.5</td>\n",
       "      <td>5.569021e+08</td>\n",
       "    </tr>\n",
       "  </tbody>\n",
       "</table>\n",
       "</div>"
      ],
      "text/plain": [
       "                  median           sum\n",
       "genres                                \n",
       "Action        77551594.0  6.628661e+10\n",
       "Adventure    155270083.0  7.925206e+10\n",
       "Animation    234942531.0  2.790583e+10\n",
       "Biography     23296424.0  7.465716e+09\n",
       "Comedy        49339196.5  4.796520e+10\n",
       "Crime         26305746.0  1.098953e+10\n",
       "Documentary   20700439.0  6.155039e+08\n",
       "Drama         21839171.5  3.094192e+10\n",
       "Family        56840757.0  8.157379e+09\n",
       "Fantasy       50972756.0  1.538356e+10\n",
       "History       46395116.0  2.551533e+09\n",
       "Horror        43191195.5  8.985128e+09\n",
       "Music         23166033.0  2.736731e+09\n",
       "Musical       39040070.5  3.717776e+08\n",
       "Mystery       53354114.0  7.339502e+09\n",
       "Romance       28680977.0  8.337572e+09\n",
       "Sci-Fi       155084849.0  2.909932e+10\n",
       "Sport         28527161.0  8.291482e+08\n",
       "Thriller      46690043.5  2.007941e+10\n",
       "War           -1564824.0  4.105903e+08\n",
       "Western        -417870.5  5.569021e+08"
      ]
     },
     "execution_count": 49,
     "metadata": {},
     "output_type": "execute_result"
    }
   ],
   "source": [
    "Grouped_genres[\"Profit\"].agg(['median','sum'])"
   ]
  },
  {
   "cell_type": "code",
   "execution_count": 50,
   "metadata": {},
   "outputs": [
    {
     "data": {
      "text/plain": [
       "genres\n",
       "Animation    3.066574e+08\n",
       "Sci-Fi       2.852874e+08\n",
       "Adventure    2.668419e+08\n",
       "Action       1.846424e+08\n",
       "Fantasy      1.538356e+08\n",
       "Family       1.165340e+08\n",
       "Comedy       1.115470e+08\n",
       "Thriller     1.045803e+08\n",
       "Musical      9.294441e+07\n",
       "Mystery      8.065387e+07\n",
       "Name: Profit, dtype: float64"
      ]
     },
     "execution_count": 50,
     "metadata": {},
     "output_type": "execute_result"
    }
   ],
   "source": [
    "Top_Genres=Grouped_genres[\"Profit\"].mean().nlargest(10)\n",
    "Top_Genres"
   ]
  },
  {
   "cell_type": "markdown",
   "metadata": {},
   "source": [
    "Animation, Sci-Fi, and Adventure are the top three genres with the highest average profit. These genres have consistently shown a strong financial performance, making them attractive choices for investment"
   ]
  },
  {
   "cell_type": "code",
   "execution_count": 51,
   "metadata": {
    "scrolled": false
   },
   "outputs": [
    {
     "data": {
      "image/png": "[encoded data removed]",
      "text/plain": [
       "<Figure size 720x360 with 1 Axes>"
      ]
     },
     "metadata": {
      "needs_background": "light"
     },
     "output_type": "display_data"
    }
   ],
   "source": [
    "plt.figure(figsize=(10,5))\n",
    "plt.bar(Top_Genres.index,Top_Genres,color=\"skyblue\",edgecolor=\"black\")\n",
    "plt.title(\"Top highest Grossing Genres\")\n",
    "plt.xlabel(\"Genres\")\n",
    "plt.ylabel(\"Profits (Millions)\")\n",
    "plt.xticks(rotation=45)\n",
    "plt.show();"
   ]
  },
  {
   "cell_type": "markdown",
   "metadata": {},
   "source": [
    "### Analysis on the release seasons\n",
    "\n",
    "here we are looking at the performance of movies based on the season they were released."
   ]
  },
  {
   "cell_type": "code",
   "execution_count": 52,
   "metadata": {
    "scrolled": true
   },
   "outputs": [
    {
     "data": {
      "text/plain": [
       "release_season\n",
       "Autumn    9.162582e+07\n",
       "Spring    1.367936e+08\n",
       "Summer    1.469774e+08\n",
       "Winter    1.057691e+08\n",
       "Name: Profit, dtype: float64"
      ]
     },
     "execution_count": 52,
     "metadata": {},
     "output_type": "execute_result"
    }
   ],
   "source": [
    "average_gross_season = all_data.groupby('release_season')['Profit'].mean()\n",
    "average_gross_season"
   ]
  },
  {
   "cell_type": "markdown",
   "metadata": {},
   "source": [
    "Movies released during different seasons have varying average profitability.\n",
    "Summer and Spring are the seasons with the highest average profitability."
   ]
  },
  {
   "cell_type": "code",
   "execution_count": 53,
   "metadata": {},
   "outputs": [
    {
     "data": {
      "image/png": "[encoded data removed]",
      "text/plain": [
       "<Figure size 576x432 with 1 Axes>"
      ]
     },
     "metadata": {
      "needs_background": "light"
     },
     "output_type": "display_data"
    }
   ],
   "source": [
    "# visualize the results\n",
    "plt.figure(figsize=(8, 6))\n",
    "plt.bar(average_gross_season.index, average_gross_season)\n",
    "plt.title('Distribution of Profit by Season')\n",
    "plt.xlabel('Season')\n",
    "plt.ylabel('Profit (Millions)')\n",
    "plt.show();\n"
   ]
  },
  {
   "cell_type": "code",
   "execution_count": null,
   "metadata": {},
   "outputs": [],
   "source": []
  },
  {
   "cell_type": "markdown",
   "metadata": {},
   "source": [
    "### Top Average Rating by Genre\n",
    "here we are looking at the genres that received the highest ratings for movies"
   ]
  },
  {
   "cell_type": "code",
   "execution_count": 54,
   "metadata": {},
   "outputs": [
    {
     "data": {
      "text/plain": [
       "genres\n",
       "History      7.096875\n",
       "Biography    7.066667\n",
       "Sport        7.004762\n",
       "Musical      6.750000\n",
       "Drama        6.692491\n",
       "Western      6.687500\n",
       "Sci-Fi       6.661765\n",
       "Animation    6.617582\n",
       "Crime        6.543678\n",
       "Adventure    6.532660\n",
       "Name: averagerating, dtype: float64"
      ]
     },
     "execution_count": 54,
     "metadata": {},
     "output_type": "execute_result"
    }
   ],
   "source": [
    "highest_AVG_R=Grouped_genres[\"averagerating\"].mean().nlargest(10)\n",
    "highest_AVG_R"
   ]
  },
  {
   "cell_type": "markdown",
   "metadata": {},
   "source": [
    "Genres such as History and Biography  have the highest average ratings. While they may not be among the top profit-generating genres, they have a dedicated audience."
   ]
  },
  {
   "cell_type": "code",
   "execution_count": 55,
   "metadata": {},
   "outputs": [
    {
     "data": {
      "image/png": "[encoded data removed]",
      "text/plain": [
       "<Figure size 576x432 with 1 Axes>"
      ]
     },
     "metadata": {
      "needs_background": "light"
     },
     "output_type": "display_data"
    }
   ],
   "source": [
    "plt.figure(figsize=(8,6))\n",
    "plt.bar(highest_AVG_R.index,highest_AVG_R.values,color='skyblue',edgecolor=\"black\")\n",
    "plt.title(\"Genres with the Best Average Rating\")\n",
    "plt.xlabel(\"Genres\")\n",
    "plt.ylabel(\"Average rating\")\n",
    "plt.xticks(rotation=45)\n",
    "plt.grid(axis='y')\n",
    "plt.show();"
   ]
  },
  {
   "cell_type": "markdown",
   "metadata": {},
   "source": [
    "### Top Genres with the high votes\n"
   ]
  },
  {
   "cell_type": "code",
   "execution_count": 56,
   "metadata": {},
   "outputs": [
    {
     "data": {
      "text/plain": [
       "genres\n",
       "Sci-Fi       315900.343137\n",
       "Western      243064.750000\n",
       "Adventure    220443.010101\n",
       "Action       204827.033426\n",
       "Fantasy      170402.910000\n",
       "Mystery      153280.098901\n",
       "Thriller     150762.192708\n",
       "History      137426.718750\n",
       "Crime        137204.356322\n",
       "Animation    136744.043956\n",
       "Name: numvotes, dtype: float64"
      ]
     },
     "execution_count": 56,
     "metadata": {},
     "output_type": "execute_result"
    }
   ],
   "source": [
    "highest_Votes=Grouped_genres[\"numvotes\"].mean().nlargest(10)\n",
    "highest_Votes"
   ]
  },
  {
   "cell_type": "markdown",
   "metadata": {},
   "source": [
    "Sci-Fi, Western, and Adventure have the highest number of votes on average. This suggests that these genres tend to engage and captivate the audience, making them a solid choice for creating films with a broad reach"
   ]
  },
  {
   "cell_type": "code",
   "execution_count": 57,
   "metadata": {},
   "outputs": [
    {
     "data": {
      "image/png": "[encoded data removed]",
      "text/plain": [
       "<Figure size 576x432 with 1 Axes>"
      ]
     },
     "metadata": {
      "needs_background": "light"
     },
     "output_type": "display_data"
    }
   ],
   "source": [
    "plt.figure(figsize=(8,6))\n",
    "plt.bar(highest_Votes.index,highest_Votes.values,color='skyblue',edgecolor=\"black\")\n",
    "plt.title(\"Top Genres with the high votes\")\n",
    "plt.xlabel(\"Genres\")\n",
    "plt.ylabel(\"Average rating\")\n",
    "plt.xticks(rotation=45)\n",
    "plt.grid(axis='y')\n",
    "plt.show();"
   ]
  },
  {
   "cell_type": "code",
   "execution_count": 58,
   "metadata": {},
   "outputs": [],
   "source": [
    "# median production_budget for movie genres"
   ]
  },
  {
   "cell_type": "code",
   "execution_count": 59,
   "metadata": {},
   "outputs": [],
   "source": [
    "Grouped_genres=uncomb_genr.groupby(\"genres\")"
   ]
  },
  {
   "cell_type": "code",
   "execution_count": 60,
   "metadata": {},
   "outputs": [
    {
     "data": {
      "text/html": [
       "<div>\n",
       "<style scoped>\n",
       "    .dataframe tbody tr th:only-of-type {\n",
       "        vertical-align: middle;\n",
       "    }\n",
       "\n",
       "    .dataframe tbody tr th {\n",
       "        vertical-align: top;\n",
       "    }\n",
       "\n",
       "    .dataframe thead th {\n",
       "        text-align: right;\n",
       "    }\n",
       "</style>\n",
       "<table border=\"1\" class=\"dataframe\">\n",
       "  <thead>\n",
       "    <tr style=\"text-align: right;\">\n",
       "      <th></th>\n",
       "      <th>count</th>\n",
       "      <th>mean</th>\n",
       "      <th>std</th>\n",
       "      <th>min</th>\n",
       "      <th>25%</th>\n",
       "      <th>50%</th>\n",
       "      <th>75%</th>\n",
       "      <th>max</th>\n",
       "    </tr>\n",
       "    <tr>\n",
       "      <th>genres</th>\n",
       "      <th></th>\n",
       "      <th></th>\n",
       "      <th></th>\n",
       "      <th></th>\n",
       "      <th></th>\n",
       "      <th></th>\n",
       "      <th></th>\n",
       "      <th></th>\n",
       "    </tr>\n",
       "  </thead>\n",
       "  <tbody>\n",
       "    <tr>\n",
       "      <th>Action</th>\n",
       "      <td>359.0</td>\n",
       "      <td>8.704875e+07</td>\n",
       "      <td>7.076729e+07</td>\n",
       "      <td>3000000.0</td>\n",
       "      <td>32000000.0</td>\n",
       "      <td>63000000.0</td>\n",
       "      <td>132500000.0</td>\n",
       "      <td>410600000.0</td>\n",
       "    </tr>\n",
       "    <tr>\n",
       "      <th>Adventure</th>\n",
       "      <td>297.0</td>\n",
       "      <td>1.121764e+08</td>\n",
       "      <td>7.243684e+07</td>\n",
       "      <td>1800000.0</td>\n",
       "      <td>50000000.0</td>\n",
       "      <td>110000000.0</td>\n",
       "      <td>165000000.0</td>\n",
       "      <td>410600000.0</td>\n",
       "    </tr>\n",
       "    <tr>\n",
       "      <th>Animation</th>\n",
       "      <td>91.0</td>\n",
       "      <td>1.029945e+08</td>\n",
       "      <td>5.477502e+07</td>\n",
       "      <td>8000000.0</td>\n",
       "      <td>60000000.0</td>\n",
       "      <td>90000000.0</td>\n",
       "      <td>145000000.0</td>\n",
       "      <td>260000000.0</td>\n",
       "    </tr>\n",
       "    <tr>\n",
       "      <th>Biography</th>\n",
       "      <td>111.0</td>\n",
       "      <td>2.788532e+07</td>\n",
       "      <td>2.231084e+07</td>\n",
       "      <td>270000.0</td>\n",
       "      <td>11500000.0</td>\n",
       "      <td>22000000.0</td>\n",
       "      <td>37000000.0</td>\n",
       "      <td>135000000.0</td>\n",
       "    </tr>\n",
       "    <tr>\n",
       "      <th>Comedy</th>\n",
       "      <td>430.0</td>\n",
       "      <td>4.525686e+07</td>\n",
       "      <td>4.422433e+07</td>\n",
       "      <td>50000.0</td>\n",
       "      <td>15000000.0</td>\n",
       "      <td>30000000.0</td>\n",
       "      <td>60000000.0</td>\n",
       "      <td>260000000.0</td>\n",
       "    </tr>\n",
       "    <tr>\n",
       "      <th>Crime</th>\n",
       "      <td>174.0</td>\n",
       "      <td>3.593460e+07</td>\n",
       "      <td>3.083478e+07</td>\n",
       "      <td>270000.0</td>\n",
       "      <td>16000000.0</td>\n",
       "      <td>30000000.0</td>\n",
       "      <td>42875000.0</td>\n",
       "      <td>250000000.0</td>\n",
       "    </tr>\n",
       "    <tr>\n",
       "      <th>Documentary</th>\n",
       "      <td>13.0</td>\n",
       "      <td>1.924615e+07</td>\n",
       "      <td>3.967274e+07</td>\n",
       "      <td>1000000.0</td>\n",
       "      <td>2900000.0</td>\n",
       "      <td>10000000.0</td>\n",
       "      <td>12800000.0</td>\n",
       "      <td>150000000.0</td>\n",
       "    </tr>\n",
       "    <tr>\n",
       "      <th>Drama</th>\n",
       "      <td>546.0</td>\n",
       "      <td>3.029634e+07</td>\n",
       "      <td>3.340676e+07</td>\n",
       "      <td>50000.0</td>\n",
       "      <td>10000000.0</td>\n",
       "      <td>20000000.0</td>\n",
       "      <td>37500000.0</td>\n",
       "      <td>210000000.0</td>\n",
       "    </tr>\n",
       "    <tr>\n",
       "      <th>Family</th>\n",
       "      <td>70.0</td>\n",
       "      <td>7.208429e+07</td>\n",
       "      <td>6.199250e+07</td>\n",
       "      <td>3000000.0</td>\n",
       "      <td>20000000.0</td>\n",
       "      <td>46500000.0</td>\n",
       "      <td>111500000.0</td>\n",
       "      <td>250000000.0</td>\n",
       "    </tr>\n",
       "    <tr>\n",
       "      <th>Fantasy</th>\n",
       "      <td>100.0</td>\n",
       "      <td>9.055600e+07</td>\n",
       "      <td>8.141043e+07</td>\n",
       "      <td>100000.0</td>\n",
       "      <td>23750000.0</td>\n",
       "      <td>66250000.0</td>\n",
       "      <td>150000000.0</td>\n",
       "      <td>410600000.0</td>\n",
       "    </tr>\n",
       "    <tr>\n",
       "      <th>History</th>\n",
       "      <td>32.0</td>\n",
       "      <td>3.953125e+07</td>\n",
       "      <td>3.531059e+07</td>\n",
       "      <td>6000000.0</td>\n",
       "      <td>18750000.0</td>\n",
       "      <td>26500000.0</td>\n",
       "      <td>50000000.0</td>\n",
       "      <td>156000000.0</td>\n",
       "    </tr>\n",
       "    <tr>\n",
       "      <th>Horror</th>\n",
       "      <td>118.0</td>\n",
       "      <td>2.321864e+07</td>\n",
       "      <td>3.557896e+07</td>\n",
       "      <td>100000.0</td>\n",
       "      <td>5000000.0</td>\n",
       "      <td>10000000.0</td>\n",
       "      <td>24750000.0</td>\n",
       "      <td>190000000.0</td>\n",
       "    </tr>\n",
       "    <tr>\n",
       "      <th>Music</th>\n",
       "      <td>37.0</td>\n",
       "      <td>2.028919e+07</td>\n",
       "      <td>1.457324e+07</td>\n",
       "      <td>1000000.0</td>\n",
       "      <td>11000000.0</td>\n",
       "      <td>17500000.0</td>\n",
       "      <td>29000000.0</td>\n",
       "      <td>55000000.0</td>\n",
       "    </tr>\n",
       "    <tr>\n",
       "      <th>Musical</th>\n",
       "      <td>4.0</td>\n",
       "      <td>5.432500e+07</td>\n",
       "      <td>3.288904e+07</td>\n",
       "      <td>8300000.0</td>\n",
       "      <td>43325000.0</td>\n",
       "      <td>62500000.0</td>\n",
       "      <td>73500000.0</td>\n",
       "      <td>84000000.0</td>\n",
       "    </tr>\n",
       "    <tr>\n",
       "      <th>Mystery</th>\n",
       "      <td>91.0</td>\n",
       "      <td>2.766580e+07</td>\n",
       "      <td>3.199907e+07</td>\n",
       "      <td>100000.0</td>\n",
       "      <td>6000000.0</td>\n",
       "      <td>14000000.0</td>\n",
       "      <td>38500000.0</td>\n",
       "      <td>185000000.0</td>\n",
       "    </tr>\n",
       "    <tr>\n",
       "      <th>Romance</th>\n",
       "      <td>157.0</td>\n",
       "      <td>2.410621e+07</td>\n",
       "      <td>2.158033e+07</td>\n",
       "      <td>50000.0</td>\n",
       "      <td>9000000.0</td>\n",
       "      <td>19000000.0</td>\n",
       "      <td>33000000.0</td>\n",
       "      <td>120000000.0</td>\n",
       "    </tr>\n",
       "    <tr>\n",
       "      <th>Sci-Fi</th>\n",
       "      <td>102.0</td>\n",
       "      <td>1.044743e+08</td>\n",
       "      <td>8.184968e+07</td>\n",
       "      <td>175000.0</td>\n",
       "      <td>27250000.0</td>\n",
       "      <td>100000000.0</td>\n",
       "      <td>173750000.0</td>\n",
       "      <td>330600000.0</td>\n",
       "    </tr>\n",
       "    <tr>\n",
       "      <th>Sport</th>\n",
       "      <td>21.0</td>\n",
       "      <td>2.842857e+07</td>\n",
       "      <td>1.678562e+07</td>\n",
       "      <td>11000000.0</td>\n",
       "      <td>15000000.0</td>\n",
       "      <td>25000000.0</td>\n",
       "      <td>40000000.0</td>\n",
       "      <td>65000000.0</td>\n",
       "    </tr>\n",
       "    <tr>\n",
       "      <th>Thriller</th>\n",
       "      <td>192.0</td>\n",
       "      <td>3.863926e+07</td>\n",
       "      <td>4.596343e+07</td>\n",
       "      <td>100000.0</td>\n",
       "      <td>10000000.0</td>\n",
       "      <td>25000000.0</td>\n",
       "      <td>50000000.0</td>\n",
       "      <td>300000000.0</td>\n",
       "    </tr>\n",
       "    <tr>\n",
       "      <th>War</th>\n",
       "      <td>10.0</td>\n",
       "      <td>3.210000e+07</td>\n",
       "      <td>3.319454e+07</td>\n",
       "      <td>1000000.0</td>\n",
       "      <td>13500000.0</td>\n",
       "      <td>19500000.0</td>\n",
       "      <td>33250000.0</td>\n",
       "      <td>110000000.0</td>\n",
       "    </tr>\n",
       "    <tr>\n",
       "      <th>Western</th>\n",
       "      <td>8.0</td>\n",
       "      <td>6.481250e+07</td>\n",
       "      <td>9.017520e+07</td>\n",
       "      <td>4500000.0</td>\n",
       "      <td>13500000.0</td>\n",
       "      <td>37500000.0</td>\n",
       "      <td>56500000.0</td>\n",
       "      <td>275000000.0</td>\n",
       "    </tr>\n",
       "  </tbody>\n",
       "</table>\n",
       "</div>"
      ],
      "text/plain": [
       "             count          mean           std         min         25%  \\\n",
       "genres                                                                   \n",
       "Action       359.0  8.704875e+07  7.076729e+07   3000000.0  32000000.0   \n",
       "Adventure    297.0  1.121764e+08  7.243684e+07   1800000.0  50000000.0   \n",
       "Animation     91.0  1.029945e+08  5.477502e+07   8000000.0  60000000.0   \n",
       "Biography    111.0  2.788532e+07  2.231084e+07    270000.0  11500000.0   \n",
       "Comedy       430.0  4.525686e+07  4.422433e+07     50000.0  15000000.0   \n",
       "Crime        174.0  3.593460e+07  3.083478e+07    270000.0  16000000.0   \n",
       "Documentary   13.0  1.924615e+07  3.967274e+07   1000000.0   2900000.0   \n",
       "Drama        546.0  3.029634e+07  3.340676e+07     50000.0  10000000.0   \n",
       "Family        70.0  7.208429e+07  6.199250e+07   3000000.0  20000000.0   \n",
       "Fantasy      100.0  9.055600e+07  8.141043e+07    100000.0  23750000.0   \n",
       "History       32.0  3.953125e+07  3.531059e+07   6000000.0  18750000.0   \n",
       "Horror       118.0  2.321864e+07  3.557896e+07    100000.0   5000000.0   \n",
       "Music         37.0  2.028919e+07  1.457324e+07   1000000.0  11000000.0   \n",
       "Musical        4.0  5.432500e+07  3.288904e+07   8300000.0  43325000.0   \n",
       "Mystery       91.0  2.766580e+07  3.199907e+07    100000.0   6000000.0   \n",
       "Romance      157.0  2.410621e+07  2.158033e+07     50000.0   9000000.0   \n",
       "Sci-Fi       102.0  1.044743e+08  8.184968e+07    175000.0  27250000.0   \n",
       "Sport         21.0  2.842857e+07  1.678562e+07  11000000.0  15000000.0   \n",
       "Thriller     192.0  3.863926e+07  4.596343e+07    100000.0  10000000.0   \n",
       "War           10.0  3.210000e+07  3.319454e+07   1000000.0  13500000.0   \n",
       "Western        8.0  6.481250e+07  9.017520e+07   4500000.0  13500000.0   \n",
       "\n",
       "                     50%          75%          max  \n",
       "genres                                              \n",
       "Action        63000000.0  132500000.0  410600000.0  \n",
       "Adventure    110000000.0  165000000.0  410600000.0  \n",
       "Animation     90000000.0  145000000.0  260000000.0  \n",
       "Biography     22000000.0   37000000.0  135000000.0  \n",
       "Comedy        30000000.0   60000000.0  260000000.0  \n",
       "Crime         30000000.0   42875000.0  250000000.0  \n",
       "Documentary   10000000.0   12800000.0  150000000.0  \n",
       "Drama         20000000.0   37500000.0  210000000.0  \n",
       "Family        46500000.0  111500000.0  250000000.0  \n",
       "Fantasy       66250000.0  150000000.0  410600000.0  \n",
       "History       26500000.0   50000000.0  156000000.0  \n",
       "Horror        10000000.0   24750000.0  190000000.0  \n",
       "Music         17500000.0   29000000.0   55000000.0  \n",
       "Musical       62500000.0   73500000.0   84000000.0  \n",
       "Mystery       14000000.0   38500000.0  185000000.0  \n",
       "Romance       19000000.0   33000000.0  120000000.0  \n",
       "Sci-Fi       100000000.0  173750000.0  330600000.0  \n",
       "Sport         25000000.0   40000000.0   65000000.0  \n",
       "Thriller      25000000.0   50000000.0  300000000.0  \n",
       "War           19500000.0   33250000.0  110000000.0  \n",
       "Western       37500000.0   56500000.0  275000000.0  "
      ]
     },
     "execution_count": 60,
     "metadata": {},
     "output_type": "execute_result"
    }
   ],
   "source": [
    "Grouped_genres[\"production_budget\"].describe()"
   ]
  },
  {
   "cell_type": "code",
   "execution_count": 61,
   "metadata": {},
   "outputs": [
    {
     "data": {
      "text/plain": [
       "genres\n",
       "Adventure    110000000.0\n",
       "Sci-Fi       100000000.0\n",
       "Animation     90000000.0\n",
       "Fantasy       66250000.0\n",
       "Action        63000000.0\n",
       "Musical       62500000.0\n",
       "Family        46500000.0\n",
       "Western       37500000.0\n",
       "Comedy        30000000.0\n",
       "Crime         30000000.0\n",
       "Name: production_budget, dtype: float64"
      ]
     },
     "execution_count": 61,
     "metadata": {},
     "output_type": "execute_result"
    }
   ],
   "source": [
    "Budget_Genres=Grouped_genres[\"production_budget\"].median().nlargest(10)\n",
    "Budget_Genres"
   ]
  },
  {
   "cell_type": "code",
   "execution_count": 62,
   "metadata": {
    "scrolled": true
   },
   "outputs": [
    {
     "data": {
      "image/png": "[encoded data removed]",
      "text/plain": [
       "<Figure size 576x432 with 1 Axes>"
      ]
     },
     "metadata": {
      "needs_background": "light"
     },
     "output_type": "display_data"
    }
   ],
   "source": [
    "plt.figure(figsize=(8,6))\n",
    "plt.bar(Budget_Genres.index,Budget_Genres.values)\n",
    "plt.title(\"The distribution of budget per genre\")\n",
    "plt.xlabel(\"Genres\")\n",
    "plt.ylabel(\"Count\")\n",
    "plt.xticks(rotation=45)\n",
    "plt.show();"
   ]
  },
  {
   "cell_type": "code",
   "execution_count": null,
   "metadata": {},
   "outputs": [],
   "source": []
  },
  {
   "cell_type": "markdown",
   "metadata": {},
   "source": [
    "### Trend of Average Profits\n",
    "we found the Average profit made in every year in order to analyze the growth of film industry"
   ]
  },
  {
   "cell_type": "code",
   "execution_count": 63,
   "metadata": {
    "scrolled": false
   },
   "outputs": [
    {
     "data": {
      "text/plain": [
       "start_year  genres   \n",
       "2010        Action       9.554831e+07\n",
       "            Adventure    2.151294e+08\n",
       "            Animation    3.684145e+08\n",
       "            Biography    8.656901e+07\n",
       "            Comedy       7.833693e+07\n",
       "                             ...     \n",
       "2018        Mystery      4.121472e+07\n",
       "            Romance      9.870949e+07\n",
       "            Sci-Fi       4.787217e+08\n",
       "            Sport        9.605934e+07\n",
       "            Thriller     8.708470e+07\n",
       "Name: Profit, Length: 172, dtype: float64"
      ]
     },
     "execution_count": 63,
     "metadata": {},
     "output_type": "execute_result"
    }
   ],
   "source": [
    "top_genre_per_year = uncomb_genr.groupby([\"start_year\",\"genres\"])[\"Profit\"].mean()\n",
    "top_genre_per_year"
   ]
  },
  {
   "cell_type": "code",
   "execution_count": 64,
   "metadata": {
    "scrolled": true
   },
   "outputs": [
    {
     "data": {
      "text/html": [
       "<div>\n",
       "<style scoped>\n",
       "    .dataframe tbody tr th:only-of-type {\n",
       "        vertical-align: middle;\n",
       "    }\n",
       "\n",
       "    .dataframe tbody tr th {\n",
       "        vertical-align: top;\n",
       "    }\n",
       "\n",
       "    .dataframe thead tr th {\n",
       "        text-align: left;\n",
       "    }\n",
       "\n",
       "    .dataframe thead tr:last-of-type th {\n",
       "        text-align: right;\n",
       "    }\n",
       "</style>\n",
       "<table border=\"1\" class=\"dataframe\">\n",
       "  <thead>\n",
       "    <tr>\n",
       "      <th></th>\n",
       "      <th colspan=\"8\" halign=\"left\">runtime_minutes</th>\n",
       "      <th colspan=\"2\" halign=\"left\">averagerating</th>\n",
       "      <th>...</th>\n",
       "      <th colspan=\"2\" halign=\"left\">Profit</th>\n",
       "      <th colspan=\"8\" halign=\"left\">release_month</th>\n",
       "    </tr>\n",
       "    <tr>\n",
       "      <th></th>\n",
       "      <th>count</th>\n",
       "      <th>mean</th>\n",
       "      <th>std</th>\n",
       "      <th>min</th>\n",
       "      <th>25%</th>\n",
       "      <th>50%</th>\n",
       "      <th>75%</th>\n",
       "      <th>max</th>\n",
       "      <th>count</th>\n",
       "      <th>mean</th>\n",
       "      <th>...</th>\n",
       "      <th>75%</th>\n",
       "      <th>max</th>\n",
       "      <th>count</th>\n",
       "      <th>mean</th>\n",
       "      <th>std</th>\n",
       "      <th>min</th>\n",
       "      <th>25%</th>\n",
       "      <th>50%</th>\n",
       "      <th>75%</th>\n",
       "      <th>max</th>\n",
       "    </tr>\n",
       "    <tr>\n",
       "      <th>start_year</th>\n",
       "      <th></th>\n",
       "      <th></th>\n",
       "      <th></th>\n",
       "      <th></th>\n",
       "      <th></th>\n",
       "      <th></th>\n",
       "      <th></th>\n",
       "      <th></th>\n",
       "      <th></th>\n",
       "      <th></th>\n",
       "      <th></th>\n",
       "      <th></th>\n",
       "      <th></th>\n",
       "      <th></th>\n",
       "      <th></th>\n",
       "      <th></th>\n",
       "      <th></th>\n",
       "      <th></th>\n",
       "      <th></th>\n",
       "      <th></th>\n",
       "      <th></th>\n",
       "    </tr>\n",
       "  </thead>\n",
       "  <tbody>\n",
       "    <tr>\n",
       "      <th>2010</th>\n",
       "      <td>150.0</td>\n",
       "      <td>106.120000</td>\n",
       "      <td>15.491466</td>\n",
       "      <td>41.0</td>\n",
       "      <td>97.0</td>\n",
       "      <td>105.0</td>\n",
       "      <td>113.00</td>\n",
       "      <td>165.0</td>\n",
       "      <td>150.0</td>\n",
       "      <td>6.377333</td>\n",
       "      <td>...</td>\n",
       "      <td>1.147899e+08</td>\n",
       "      <td>8.688795e+08</td>\n",
       "      <td>150.0</td>\n",
       "      <td>7.446667</td>\n",
       "      <td>3.434012</td>\n",
       "      <td>1.0</td>\n",
       "      <td>5.00</td>\n",
       "      <td>8.0</td>\n",
       "      <td>10.0</td>\n",
       "      <td>12.0</td>\n",
       "    </tr>\n",
       "    <tr>\n",
       "      <th>2011</th>\n",
       "      <td>151.0</td>\n",
       "      <td>106.304636</td>\n",
       "      <td>15.822344</td>\n",
       "      <td>63.0</td>\n",
       "      <td>94.0</td>\n",
       "      <td>105.0</td>\n",
       "      <td>114.00</td>\n",
       "      <td>154.0</td>\n",
       "      <td>151.0</td>\n",
       "      <td>6.348344</td>\n",
       "      <td>...</td>\n",
       "      <td>1.122567e+08</td>\n",
       "      <td>9.287905e+08</td>\n",
       "      <td>151.0</td>\n",
       "      <td>7.052980</td>\n",
       "      <td>3.300077</td>\n",
       "      <td>1.0</td>\n",
       "      <td>4.00</td>\n",
       "      <td>7.0</td>\n",
       "      <td>10.0</td>\n",
       "      <td>12.0</td>\n",
       "    </tr>\n",
       "    <tr>\n",
       "      <th>2012</th>\n",
       "      <td>126.0</td>\n",
       "      <td>108.857143</td>\n",
       "      <td>20.683796</td>\n",
       "      <td>82.0</td>\n",
       "      <td>93.0</td>\n",
       "      <td>104.5</td>\n",
       "      <td>117.50</td>\n",
       "      <td>176.0</td>\n",
       "      <td>126.0</td>\n",
       "      <td>6.511111</td>\n",
       "      <td>...</td>\n",
       "      <td>1.365016e+08</td>\n",
       "      <td>9.105270e+08</td>\n",
       "      <td>126.0</td>\n",
       "      <td>7.214286</td>\n",
       "      <td>3.314470</td>\n",
       "      <td>1.0</td>\n",
       "      <td>4.25</td>\n",
       "      <td>8.0</td>\n",
       "      <td>10.0</td>\n",
       "      <td>12.0</td>\n",
       "    </tr>\n",
       "    <tr>\n",
       "      <th>2013</th>\n",
       "      <td>127.0</td>\n",
       "      <td>111.000000</td>\n",
       "      <td>20.295828</td>\n",
       "      <td>25.0</td>\n",
       "      <td>98.0</td>\n",
       "      <td>109.0</td>\n",
       "      <td>119.00</td>\n",
       "      <td>180.0</td>\n",
       "      <td>127.0</td>\n",
       "      <td>6.550394</td>\n",
       "      <td>...</td>\n",
       "      <td>1.544090e+08</td>\n",
       "      <td>1.122470e+09</td>\n",
       "      <td>127.0</td>\n",
       "      <td>7.165354</td>\n",
       "      <td>3.488675</td>\n",
       "      <td>1.0</td>\n",
       "      <td>4.50</td>\n",
       "      <td>7.0</td>\n",
       "      <td>10.0</td>\n",
       "      <td>12.0</td>\n",
       "    </tr>\n",
       "    <tr>\n",
       "      <th>2014</th>\n",
       "      <td>123.0</td>\n",
       "      <td>111.317073</td>\n",
       "      <td>18.547377</td>\n",
       "      <td>81.0</td>\n",
       "      <td>98.5</td>\n",
       "      <td>106.0</td>\n",
       "      <td>122.00</td>\n",
       "      <td>169.0</td>\n",
       "      <td>123.0</td>\n",
       "      <td>6.528455</td>\n",
       "      <td>...</td>\n",
       "      <td>1.535791e+08</td>\n",
       "      <td>8.940391e+08</td>\n",
       "      <td>123.0</td>\n",
       "      <td>7.186992</td>\n",
       "      <td>3.405275</td>\n",
       "      <td>1.0</td>\n",
       "      <td>4.00</td>\n",
       "      <td>8.0</td>\n",
       "      <td>10.0</td>\n",
       "      <td>12.0</td>\n",
       "    </tr>\n",
       "    <tr>\n",
       "      <th>2015</th>\n",
       "      <td>125.0</td>\n",
       "      <td>112.328000</td>\n",
       "      <td>17.490908</td>\n",
       "      <td>81.0</td>\n",
       "      <td>99.0</td>\n",
       "      <td>110.0</td>\n",
       "      <td>123.00</td>\n",
       "      <td>168.0</td>\n",
       "      <td>125.0</td>\n",
       "      <td>6.446400</td>\n",
       "      <td>...</td>\n",
       "      <td>1.087783e+08</td>\n",
       "      <td>1.433855e+09</td>\n",
       "      <td>125.0</td>\n",
       "      <td>7.472000</td>\n",
       "      <td>3.239315</td>\n",
       "      <td>1.0</td>\n",
       "      <td>5.00</td>\n",
       "      <td>8.0</td>\n",
       "      <td>10.0</td>\n",
       "      <td>12.0</td>\n",
       "    </tr>\n",
       "    <tr>\n",
       "      <th>2016</th>\n",
       "      <td>138.0</td>\n",
       "      <td>110.782609</td>\n",
       "      <td>16.769254</td>\n",
       "      <td>81.0</td>\n",
       "      <td>98.0</td>\n",
       "      <td>109.0</td>\n",
       "      <td>120.00</td>\n",
       "      <td>170.0</td>\n",
       "      <td>138.0</td>\n",
       "      <td>6.463043</td>\n",
       "      <td>...</td>\n",
       "      <td>1.443412e+08</td>\n",
       "      <td>8.900694e+08</td>\n",
       "      <td>138.0</td>\n",
       "      <td>7.072464</td>\n",
       "      <td>3.484350</td>\n",
       "      <td>1.0</td>\n",
       "      <td>4.00</td>\n",
       "      <td>7.0</td>\n",
       "      <td>10.0</td>\n",
       "      <td>12.0</td>\n",
       "    </tr>\n",
       "    <tr>\n",
       "      <th>2017</th>\n",
       "      <td>100.0</td>\n",
       "      <td>111.640000</td>\n",
       "      <td>17.991311</td>\n",
       "      <td>72.0</td>\n",
       "      <td>97.0</td>\n",
       "      <td>111.5</td>\n",
       "      <td>121.25</td>\n",
       "      <td>167.0</td>\n",
       "      <td>100.0</td>\n",
       "      <td>6.508000</td>\n",
       "      <td>...</td>\n",
       "      <td>2.140710e+08</td>\n",
       "      <td>9.848463e+08</td>\n",
       "      <td>100.0</td>\n",
       "      <td>7.370000</td>\n",
       "      <td>3.236955</td>\n",
       "      <td>1.0</td>\n",
       "      <td>5.00</td>\n",
       "      <td>7.0</td>\n",
       "      <td>10.0</td>\n",
       "      <td>12.0</td>\n",
       "    </tr>\n",
       "    <tr>\n",
       "      <th>2018</th>\n",
       "      <td>95.0</td>\n",
       "      <td>112.642105</td>\n",
       "      <td>16.285953</td>\n",
       "      <td>84.0</td>\n",
       "      <td>100.0</td>\n",
       "      <td>111.0</td>\n",
       "      <td>123.00</td>\n",
       "      <td>152.0</td>\n",
       "      <td>95.0</td>\n",
       "      <td>6.409474</td>\n",
       "      <td>...</td>\n",
       "      <td>1.469079e+08</td>\n",
       "      <td>1.748134e+09</td>\n",
       "      <td>95.0</td>\n",
       "      <td>7.126316</td>\n",
       "      <td>3.543775</td>\n",
       "      <td>1.0</td>\n",
       "      <td>4.00</td>\n",
       "      <td>7.0</td>\n",
       "      <td>10.5</td>\n",
       "      <td>12.0</td>\n",
       "    </tr>\n",
       "  </tbody>\n",
       "</table>\n",
       "<p>9 rows × 64 columns</p>\n",
       "</div>"
      ],
      "text/plain": [
       "           runtime_minutes                                                     \\\n",
       "                     count        mean        std   min    25%    50%     75%   \n",
       "start_year                                                                      \n",
       "2010                 150.0  106.120000  15.491466  41.0   97.0  105.0  113.00   \n",
       "2011                 151.0  106.304636  15.822344  63.0   94.0  105.0  114.00   \n",
       "2012                 126.0  108.857143  20.683796  82.0   93.0  104.5  117.50   \n",
       "2013                 127.0  111.000000  20.295828  25.0   98.0  109.0  119.00   \n",
       "2014                 123.0  111.317073  18.547377  81.0   98.5  106.0  122.00   \n",
       "2015                 125.0  112.328000  17.490908  81.0   99.0  110.0  123.00   \n",
       "2016                 138.0  110.782609  16.769254  81.0   98.0  109.0  120.00   \n",
       "2017                 100.0  111.640000  17.991311  72.0   97.0  111.5  121.25   \n",
       "2018                  95.0  112.642105  16.285953  84.0  100.0  111.0  123.00   \n",
       "\n",
       "                  averagerating            ...        Profit                \\\n",
       "              max         count      mean  ...           75%           max   \n",
       "start_year                                 ...                               \n",
       "2010        165.0         150.0  6.377333  ...  1.147899e+08  8.688795e+08   \n",
       "2011        154.0         151.0  6.348344  ...  1.122567e+08  9.287905e+08   \n",
       "2012        176.0         126.0  6.511111  ...  1.365016e+08  9.105270e+08   \n",
       "2013        180.0         127.0  6.550394  ...  1.544090e+08  1.122470e+09   \n",
       "2014        169.0         123.0  6.528455  ...  1.535791e+08  8.940391e+08   \n",
       "2015        168.0         125.0  6.446400  ...  1.087783e+08  1.433855e+09   \n",
       "2016        170.0         138.0  6.463043  ...  1.443412e+08  8.900694e+08   \n",
       "2017        167.0         100.0  6.508000  ...  2.140710e+08  9.848463e+08   \n",
       "2018        152.0          95.0  6.409474  ...  1.469079e+08  1.748134e+09   \n",
       "\n",
       "           release_month                                                  \n",
       "                   count      mean       std  min   25%  50%   75%   max  \n",
       "start_year                                                                \n",
       "2010               150.0  7.446667  3.434012  1.0  5.00  8.0  10.0  12.0  \n",
       "2011               151.0  7.052980  3.300077  1.0  4.00  7.0  10.0  12.0  \n",
       "2012               126.0  7.214286  3.314470  1.0  4.25  8.0  10.0  12.0  \n",
       "2013               127.0  7.165354  3.488675  1.0  4.50  7.0  10.0  12.0  \n",
       "2014               123.0  7.186992  3.405275  1.0  4.00  8.0  10.0  12.0  \n",
       "2015               125.0  7.472000  3.239315  1.0  5.00  8.0  10.0  12.0  \n",
       "2016               138.0  7.072464  3.484350  1.0  4.00  7.0  10.0  12.0  \n",
       "2017               100.0  7.370000  3.236955  1.0  5.00  7.0  10.0  12.0  \n",
       "2018                95.0  7.126316  3.543775  1.0  4.00  7.0  10.5  12.0  \n",
       "\n",
       "[9 rows x 64 columns]"
      ]
     },
     "execution_count": 64,
     "metadata": {},
     "output_type": "execute_result"
    }
   ],
   "source": [
    "all_data.groupby(\"start_year\").describe()"
   ]
  },
  {
   "cell_type": "code",
   "execution_count": 65,
   "metadata": {
    "scrolled": true
   },
   "outputs": [
    {
     "data": {
      "text/plain": [
       "start_year\n",
       "2010    8.149128e+07\n",
       "2011    8.525549e+07\n",
       "2012    1.131444e+08\n",
       "2013    1.216148e+08\n",
       "2014    1.298379e+08\n",
       "2015    1.202529e+08\n",
       "2016    1.223498e+08\n",
       "2017    1.640776e+08\n",
       "2018    1.626008e+08\n",
       "Name: Profit, dtype: float64"
      ]
     },
     "execution_count": 65,
     "metadata": {},
     "output_type": "execute_result"
    }
   ],
   "source": [
    "Max_profit_yrs = all_data.groupby(\"start_year\")[\"Profit\"].mean()\n",
    "Max_profit_yrs"
   ]
  },
  {
   "cell_type": "markdown",
   "metadata": {},
   "source": [
    "We can visualize the results "
   ]
  },
  {
   "cell_type": "code",
   "execution_count": 66,
   "metadata": {},
   "outputs": [
    {
     "data": {
      "image/png": "[encoded data removed]",
      "text/plain": [
       "<Figure size 864x432 with 1 Axes>"
      ]
     },
     "metadata": {
      "needs_background": "light"
     },
     "output_type": "display_data"
    }
   ],
   "source": [
    "# Create a line chart to visualize the top genres over the years\n",
    "plt.figure(figsize=(12, 6))\n",
    "plt.plot(Max_profit_yrs.index, Max_profit_yrs, marker='o', linestyle='-')\n",
    "plt.title('Growth of Genres Over the Years')\n",
    "plt.xlabel('Year')\n",
    "plt.ylabel('Profit (Millions)')\n",
    "plt.xticks(Max_profit_yrs.index)\n",
    "plt.grid(True)\n",
    "plt.show()"
   ]
  },
  {
   "cell_type": "markdown",
   "metadata": {},
   "source": [
    "It is observed that there is increase in the profitability as the years increases.This shows that the industry is growing rapidly from 2010 to reaching peak  in 2018."
   ]
  },
  {
   "cell_type": "markdown",
   "metadata": {},
   "source": [
    "### Most profitable Successful  Combined Genres\n",
    "finding which genres were the most successful at the box office "
   ]
  },
  {
   "cell_type": "code",
   "execution_count": 67,
   "metadata": {},
   "outputs": [],
   "source": [
    "# we group by genre\n",
    "grouped_genre=all_data.groupby(\"genres\")"
   ]
  },
  {
   "cell_type": "code",
   "execution_count": 68,
   "metadata": {},
   "outputs": [
    {
     "data": {
      "text/html": [
       "<div>\n",
       "<style scoped>\n",
       "    .dataframe tbody tr th:only-of-type {\n",
       "        vertical-align: middle;\n",
       "    }\n",
       "\n",
       "    .dataframe tbody tr th {\n",
       "        vertical-align: top;\n",
       "    }\n",
       "\n",
       "    .dataframe thead th {\n",
       "        text-align: right;\n",
       "    }\n",
       "</style>\n",
       "<table border=\"1\" class=\"dataframe\">\n",
       "  <thead>\n",
       "    <tr style=\"text-align: right;\">\n",
       "      <th></th>\n",
       "      <th>median</th>\n",
       "      <th>sum</th>\n",
       "    </tr>\n",
       "    <tr>\n",
       "      <th>genres</th>\n",
       "      <th></th>\n",
       "      <th></th>\n",
       "    </tr>\n",
       "  </thead>\n",
       "  <tbody>\n",
       "    <tr>\n",
       "      <th>Action</th>\n",
       "      <td>7018988.0</td>\n",
       "      <td>7.018988e+06</td>\n",
       "    </tr>\n",
       "    <tr>\n",
       "      <th>Action,Adventure</th>\n",
       "      <td>-4488226.0</td>\n",
       "      <td>-4.488226e+06</td>\n",
       "    </tr>\n",
       "    <tr>\n",
       "      <th>Action,Adventure,Animation</th>\n",
       "      <td>387664265.0</td>\n",
       "      <td>5.003225e+09</td>\n",
       "    </tr>\n",
       "    <tr>\n",
       "      <th>Action,Adventure,Biography</th>\n",
       "      <td>22897191.0</td>\n",
       "      <td>4.105288e+08</td>\n",
       "    </tr>\n",
       "    <tr>\n",
       "      <th>Action,Adventure,Comedy</th>\n",
       "      <td>304803696.0</td>\n",
       "      <td>6.107212e+09</td>\n",
       "    </tr>\n",
       "    <tr>\n",
       "      <th>...</th>\n",
       "      <td>...</td>\n",
       "      <td>...</td>\n",
       "    </tr>\n",
       "    <tr>\n",
       "      <th>Music</th>\n",
       "      <td>-8917094.0</td>\n",
       "      <td>-8.917094e+06</td>\n",
       "    </tr>\n",
       "    <tr>\n",
       "      <th>Mystery,Sci-Fi,Thriller</th>\n",
       "      <td>168268832.0</td>\n",
       "      <td>3.365377e+08</td>\n",
       "    </tr>\n",
       "    <tr>\n",
       "      <th>Mystery,Thriller</th>\n",
       "      <td>219461782.0</td>\n",
       "      <td>2.194618e+08</td>\n",
       "    </tr>\n",
       "    <tr>\n",
       "      <th>Romance,Sci-Fi,Thriller</th>\n",
       "      <td>76731325.0</td>\n",
       "      <td>7.673132e+07</td>\n",
       "    </tr>\n",
       "    <tr>\n",
       "      <th>Thriller</th>\n",
       "      <td>59577502.5</td>\n",
       "      <td>1.191550e+08</td>\n",
       "    </tr>\n",
       "  </tbody>\n",
       "</table>\n",
       "<p>189 rows × 2 columns</p>\n",
       "</div>"
      ],
      "text/plain": [
       "                                 median           sum\n",
       "genres                                               \n",
       "Action                        7018988.0  7.018988e+06\n",
       "Action,Adventure             -4488226.0 -4.488226e+06\n",
       "Action,Adventure,Animation  387664265.0  5.003225e+09\n",
       "Action,Adventure,Biography   22897191.0  4.105288e+08\n",
       "Action,Adventure,Comedy     304803696.0  6.107212e+09\n",
       "...                                 ...           ...\n",
       "Music                        -8917094.0 -8.917094e+06\n",
       "Mystery,Sci-Fi,Thriller     168268832.0  3.365377e+08\n",
       "Mystery,Thriller            219461782.0  2.194618e+08\n",
       "Romance,Sci-Fi,Thriller      76731325.0  7.673132e+07\n",
       "Thriller                     59577502.5  1.191550e+08\n",
       "\n",
       "[189 rows x 2 columns]"
      ]
     },
     "execution_count": 68,
     "metadata": {},
     "output_type": "execute_result"
    }
   ],
   "source": [
    "# we can do more statistical analysis i.e median ,sum\n",
    "\n",
    "grouped_genre[\"Profit\"].agg(['median','sum'])\n"
   ]
  },
  {
   "cell_type": "code",
   "execution_count": 69,
   "metadata": {},
   "outputs": [
    {
     "name": "stdout",
     "output_type": "stream",
     "text": [
      "Genre Analysis - Top-Performing Genres:\n"
     ]
    },
    {
     "data": {
      "text/plain": [
       "genres\n",
       "Adventure,Drama,Sci-Fi        5.243254e+08\n",
       "Comedy,Mystery                5.064643e+08\n",
       "Action,Adventure,Sci-Fi       4.923576e+08\n",
       "Adventure,Fantasy             4.695440e+08\n",
       "Action,Adventure,Comedy       3.592478e+08\n",
       "Action,Adventure,Animation    3.573732e+08\n",
       "Animation,Comedy,Family       3.518153e+08\n",
       "Adventure,Animation,Comedy    3.268089e+08\n",
       "Adventure,Drama,Fantasy       3.045515e+08\n",
       "Drama,Romance,Thriller        3.044666e+08\n",
       "Name: Profit, dtype: float64"
      ]
     },
     "execution_count": 69,
     "metadata": {},
     "output_type": "execute_result"
    }
   ],
   "source": [
    "print(\"Genre Analysis - Top-Performing Genres:\")\n",
    "\n",
    "top_gross_genre=grouped_genre['Profit'].mean().nlargest(10)\n",
    "top_gross_genre\n"
   ]
  },
  {
   "cell_type": "code",
   "execution_count": 70,
   "metadata": {},
   "outputs": [
    {
     "data": {
      "image/png": "[encoded data removed]",
      "text/plain": [
       "<Figure size 720x432 with 1 Axes>"
      ]
     },
     "metadata": {
      "needs_background": "light"
     },
     "output_type": "display_data"
    }
   ],
   "source": [
    "# A bar chart\n",
    "\n",
    "plt.figure(figsize=(10, 6))\n",
    "plt.bar(top_gross_genre.index ,top_gross_genre.values)\n",
    "plt.title(\"Top highest Grossing Genres Combination\")\n",
    "plt.xlabel(\"Genres Combination\")\n",
    "plt.ylabel(\"Total_Gross (Millions)\")\n",
    "plt.xticks(rotation=45)\n",
    "plt.show();"
   ]
  },
  {
   "cell_type": "markdown",
   "metadata": {},
   "source": [
    "### Studio Analysis at the box office\n",
    "We can find the best performing studio in relation to the box office by looking at which studios had the highest grossing movies "
   ]
  },
  {
   "cell_type": "code",
   "execution_count": 71,
   "metadata": {},
   "outputs": [],
   "source": [
    "grouped_studios=all_data.groupby(\"studio\")"
   ]
  },
  {
   "cell_type": "code",
   "execution_count": 72,
   "metadata": {
    "scrolled": true
   },
   "outputs": [
    {
     "name": "stdout",
     "output_type": "stream",
     "text": [
      "\n",
      "Studio Analysis - Top-Performing Studios:\n"
     ]
    },
    {
     "data": {
      "text/plain": [
       "studio\n",
       "P/DW        3.744028e+08\n",
       "BV          3.380235e+08\n",
       "GrtIndia    2.335029e+08\n",
       "Uni.        1.729512e+08\n",
       "Fox         1.683635e+08\n",
       "WB (NL)     1.669137e+08\n",
       "Sony        1.661143e+08\n",
       "WB          1.454930e+08\n",
       "Par.        1.353790e+08\n",
       "MGM         9.677964e+07\n",
       "Name: Profit, dtype: float64"
      ]
     },
     "execution_count": 72,
     "metadata": {},
     "output_type": "execute_result"
    }
   ],
   "source": [
    "print(\"\\nStudio Analysis - Top-Performing Studios:\")\n",
    "\n",
    "best_studios=grouped_studios[\"Profit\"].mean().nlargest(10)\n",
    "best_studios"
   ]
  },
  {
   "cell_type": "code",
   "execution_count": 73,
   "metadata": {
    "scrolled": true
   },
   "outputs": [
    {
     "data": {
      "image/png": "[encoded data removed]",
      "text/plain": [
       "<Figure size 576x432 with 1 Axes>"
      ]
     },
     "metadata": {
      "needs_background": "light"
     },
     "output_type": "display_data"
    }
   ],
   "source": [
    "plt.figure(figsize=(8,6))\n",
    "plt.bar(best_studios.index,best_studios.values)\n",
    "plt.xlabel(\"studios\")\n",
    "plt.ylabel(\"Total Gross(Millions)\")\n",
    "plt.show()"
   ]
  },
  {
   "cell_type": "code",
   "execution_count": null,
   "metadata": {},
   "outputs": [],
   "source": []
  },
  {
   "cell_type": "markdown",
   "metadata": {},
   "source": [
    "###  Relationship between number of votes, average rating and their profits at the box office"
   ]
  },
  {
   "cell_type": "code",
   "execution_count": 74,
   "metadata": {},
   "outputs": [],
   "source": [
    "# Calculate the correlation coefficients\n",
    "corr_1 = all_data['numvotes'].corr(all_data['Profit'])\n",
    "corr_2 = all_data['averagerating'].corr(all_data['Profit'])\n"
   ]
  },
  {
   "cell_type": "code",
   "execution_count": 75,
   "metadata": {},
   "outputs": [
    {
     "name": "stdout",
     "output_type": "stream",
     "text": [
      "Correlation between Average Rating and Profit : 0.29172244649867185\n"
     ]
    }
   ],
   "source": [
    "print(\"Correlation between Average Rating and Profit :\", corr_2)"
   ]
  },
  {
   "cell_type": "markdown",
   "metadata": {},
   "source": [
    "There is a negative correlation between the average rating and their profits.We can confirm this using a scatter plot"
   ]
  },
  {
   "cell_type": "code",
   "execution_count": 76,
   "metadata": {
    "scrolled": true
   },
   "outputs": [
    {
     "data": {
      "image/png": "[encoded data removed]",
      "text/plain": [
       "<Figure size 720x360 with 1 Axes>"
      ]
     },
     "metadata": {
      "needs_background": "light"
     },
     "output_type": "display_data"
    }
   ],
   "source": [
    "\n",
    "plt.figure(figsize=(10, 5))\n",
    "sns.scatterplot(data=all_data, x='averagerating', y='Profit')\n",
    "plt.xlabel(\"Average Rating\")\n",
    "plt.ylabel(\"Profit (Billions)\")\n",
    "plt.title(\"Rating vs. Profit Made\")\n",
    "plt.show()"
   ]
  },
  {
   "cell_type": "code",
   "execution_count": 77,
   "metadata": {},
   "outputs": [],
   "source": [
    "corr_1 = all_data['numvotes'].corr(all_data['Profit'])"
   ]
  },
  {
   "cell_type": "code",
   "execution_count": 78,
   "metadata": {},
   "outputs": [
    {
     "name": "stdout",
     "output_type": "stream",
     "text": [
      "Correlation between Number of Votes and Profit : 0.6073249038809306\n"
     ]
    },
    {
     "data": {
      "image/png": "[encoded data removed]",
      "text/plain": [
       "<Figure size 720x360 with 1 Axes>"
      ]
     },
     "metadata": {
      "needs_background": "light"
     },
     "output_type": "display_data"
    }
   ],
   "source": [
    "print(\"Correlation between Number of Votes and Profit :\", corr_1)\n",
    "\n",
    "# plot the scatter plot\n",
    "plt.figure(figsize=(10, 5))\n",
    "sns.scatterplot(data=all_data, x='numvotes', y='Profit')\n",
    "plt.xlabel(\"Number of Votes\")\n",
    "plt.ylabel(\"Profit (Millions)\")\n",
    "plt.title(\"Voters vs. Profit Made\")\n",
    "plt.show()"
   ]
  },
  {
   "cell_type": "markdown",
   "metadata": {},
   "source": [
    "### Movie Genre with the most votes\n",
    "\n",
    "here am looking at movie genre type to find out which genres had the most audience engagments based on votes.Through this we can find which genres are most popular among audience and eventually recommend insights"
   ]
  },
  {
   "cell_type": "code",
   "execution_count": 79,
   "metadata": {
    "scrolled": true
   },
   "outputs": [
    {
     "name": "stdout",
     "output_type": "stream",
     "text": [
      "Votes Analysis - Top-Performing Genres:\n"
     ]
    },
    {
     "data": {
      "text/plain": [
       "genres\n",
       "Mystery,Thriller            1.005960e+06\n",
       "Adventure,Drama,Sci-Fi      9.897250e+05\n",
       "Drama,Western               6.195645e+05\n",
       "Adventure,Mystery,Sci-Fi    5.387200e+05\n",
       "Action,Adventure,Sci-Fi     4.333590e+05\n",
       "Comedy,Mystery              4.328000e+05\n",
       "Mystery,Sci-Fi,Thriller     4.065325e+05\n",
       "Action,Adventure,Mystery    3.997030e+05\n",
       "Drama,Sci-Fi,Thriller       3.971750e+05\n",
       "Adventure,Fantasy           3.757703e+05\n",
       "Name: numvotes, dtype: float64"
      ]
     },
     "execution_count": 79,
     "metadata": {},
     "output_type": "execute_result"
    }
   ],
   "source": [
    "print(\"Votes Analysis - Top-Performing Genres:\")\n",
    "\n",
    "grouped_gen=all_data.groupby(by=\"genres\")\n",
    "top_votes=grouped_gen[\"numvotes\"].mean().nlargest(10)\n",
    "top_votes"
   ]
  },
  {
   "cell_type": "code",
   "execution_count": 80,
   "metadata": {
    "scrolled": true
   },
   "outputs": [
    {
     "data": {
      "image/png": "[encoded data removed]",
      "text/plain": [
       "<Figure size 576x432 with 1 Axes>"
      ]
     },
     "metadata": {
      "needs_background": "light"
     },
     "output_type": "display_data"
    }
   ],
   "source": [
    "plt.figure(figsize=(8,6))\n",
    "plt.bar(top_votes.index,top_votes.values)\n",
    "plt.title(\"Most popular combined genres (votes)\")\n",
    "plt.ylabel(\"number of votes (millions)\")\n",
    "plt.xlabel(\"genres\")\n",
    "plt.xticks(rotation=45)\n",
    "plt.show();"
   ]
  },
  {
   "cell_type": "code",
   "execution_count": null,
   "metadata": {},
   "outputs": [],
   "source": []
  },
  {
   "cell_type": "markdown",
   "metadata": {},
   "source": [
    "### Budget Analysis\n",
    "is there a relationship between production budget and the profit made\n"
   ]
  },
  {
   "cell_type": "code",
   "execution_count": 81,
   "metadata": {
    "scrolled": true
   },
   "outputs": [
    {
     "data": {
      "text/plain": [
       "0.650578635323845"
      ]
     },
     "execution_count": 81,
     "metadata": {},
     "output_type": "execute_result"
    }
   ],
   "source": [
    "corre= all_data[\"Profit\"].corr(all_data[\"production_budget\"])\n",
    "corre"
   ]
  },
  {
   "cell_type": "markdown",
   "metadata": {},
   "source": [
    "There is a positive relationship between the budget of a movie and their performance at the box office"
   ]
  },
  {
   "cell_type": "code",
   "execution_count": 82,
   "metadata": {
    "scrolled": true
   },
   "outputs": [
    {
     "name": "stdout",
     "output_type": "stream",
     "text": [
      "the correlation between budget and Profits :0.650578635323845\n"
     ]
    },
    {
     "data": {
      "image/png": "[encoded data removed]",
      "text/plain": [
       "<Figure size 720x360 with 1 Axes>"
      ]
     },
     "metadata": {
      "needs_background": "light"
     },
     "output_type": "display_data"
    }
   ],
   "source": [
    "print(f\"the correlation between budget and Profits :{corre}\")\n",
    "# ploting a scatter plot\n",
    "\n",
    "plt.figure(figsize=(10,5))\n",
    "plt.scatter(all_data[\"Profit\"],all_data[\"production_budget\"])\n",
    "plt.title(\"Production_Budget vs Profits \")\n",
    "plt.xlabel(\"Profit (Billions)\")\n",
    "plt.ylabel(\"movie budget (Millions)\")\n",
    "plt.show();"
   ]
  },
  {
   "cell_type": "markdown",
   "metadata": {},
   "source": [
    "As the production budget increases the profit increases as well.This idicates that movies with properly allocated funds produce a lot of profit in return."
   ]
  },
  {
   "cell_type": "code",
   "execution_count": null,
   "metadata": {},
   "outputs": [],
   "source": []
  },
  {
   "cell_type": "markdown",
   "metadata": {},
   "source": [
    "## Conclusion\n",
    "\n",
    "This analysis leads to these recommendations to help microsoft decide the type of films to create:\n",
    "\n",
    "Genre selection:Focus on \"sci-fi\" and \"animation\" genres for film production.These two genres have had highest worlwide Gross revenue at the box office.\"sci-fi\" genre as shown strong popularity among audience as it received the highest votes.This indicates strong audience preference.\n",
    "\n",
    "Strategic Timing: Microsoft should strategically time their film releases, aiming for the summer and holiday seasons. This can optimize box office earnings and overall performance.\n",
    "\n",
    "Combined_Genre Selection: Focus on 'Adventure, Drama, Sci-Fi' genres combination for film production, as this genres have shown strong poplarity ,high rating and high box office performance, indicating significant audience interest.it has been the most successful genre combination at box office currently.\n",
    "\n",
    "High-Engagement Genres: Invest in a strong social media presence to reach a diverse international audience. Prioritize creating films genres that are apealing  and quality such as \"sci-fi\" genre.This engages the audience, as movies with a high number of votes tend to perform well at the box office. This approach can lead to increased audience engagement and higher box office returns.\n",
    "\n",
    "Budget Allocation for Maximum Profit: consider allocating a larger budgets to produce high Quality films in the genres such as Adventure or Sci-fi genres.Genres that had a well production budget for a movie had higher worldwide Gross and profits. \n",
    "\n",
    "Collaboration with Studios: Explore collaboration opportunities with successful studios like P/DW and BV studios , as they have demonstrated high total gross revenues. Such partnerships have the potential to enhance profitability.Building strategic partnerships with successful studios can provide opportunities for co-productions and co-distribution can as well increase your audience.\n"
   ]
  },
  {
   "cell_type": "markdown",
   "metadata": {},
   "source": [
    "## Next steps\n",
    "\n",
    "Further analyses could yield additional insights to help microsoft's studio create films:\n",
    "\n",
    "Better understanding of content themes.This modeling could analyze the most common themes in the specified genres that are apealing to audience.This can be useful in crafting relevant and captivating storylines.\n",
    "\n",
    "Better Understanding of audience.This modeling can help understand the age distribution,gender distribution and locations of our audience in order to develope marketing strategies to help make higher revenues.\n"
   ]
  },
  {
   "cell_type": "code",
   "execution_count": null,
   "metadata": {},
   "outputs": [],
   "source": []
  }
 ],
 "metadata": {
  "kernelspec": {
   "display_name": "Python 3",
   "language": "python",
   "name": "python3"
  },
  "language_info": {
   "codemirror_mode": {
    "name": "ipython",
    "version": 3
   },
   "file_extension": ".py",
   "mimetype": "text/x-python",
   "name": "python",
   "nbconvert_exporter": "python",
   "pygments_lexer": "ipython3",
   "version": "3.8.5"
  }
 },
 "nbformat": 4,
 "nbformat_minor": 4
}
